{
 "cells": [
  {
   "cell_type": "code",
   "execution_count": 1,
   "metadata": {},
   "outputs": [
    {
     "name": "stdout",
     "output_type": "stream",
     "text": [
      "Populating the interactive namespace from numpy and matplotlib\n"
     ]
    }
   ],
   "source": [
    "%pylab inline\n",
    "from scipy import interpolate\n",
    "from scipy import optimize"
   ]
  },
  {
   "cell_type": "code",
   "execution_count": 9,
   "metadata": {},
   "outputs": [],
   "source": [
    "e = 1  # onsite energy\n",
    "t = 1 # hopping\n",
    "U = 15 # coulob repulsion\n",
    "ne = 1.4 # number of electrons per unit cell/ occupation number\n",
    "T = 1 # tempreture\n",
    "delta=0.1\n",
    "\n",
    "sigma=0.02\n",
    "# The occupation number independent part of the Hamiltonina\n",
    "nk = 200\n",
    "kran = linspace(-pi,pi,nk,endpoint=False)\n",
    "kx,ky = meshgrid(kran,kran)\n",
    "kx = kx.flatten()\n",
    "ky = ky.flatten()\n",
    "gamma = -(1+exp(-1j*2*kx)+exp(-1j*(kx-ky))+exp(-1j*(kx+ky)))\n",
    "H0k = zeros((len(gamma),2,2),dtype=complex)\n",
    "H0k[:,0,1] = gamma\n",
    "H0k[:,1,0] = conj(gamma)"
   ]
  },
  {
   "cell_type": "code",
   "execution_count": 10,
   "metadata": {},
   "outputs": [],
   "source": [
    "# this generates eigen values and eigen vectors and returns them \n",
    "def make_spectr(U,n1,n2):\n",
    "    Hk = H0k.copy()\n",
    "    Hk[:,0,0] = U*n1\n",
    "    Hk[:,1,1] = U*n2\n",
    "    return eigh(Hk)"
   ]
  },
  {
   "cell_type": "code",
   "execution_count": 11,
   "metadata": {},
   "outputs": [],
   "source": [
    "def densty(E,sigma=0.02):\n",
    "    return sum(1/(sigma*sqrt(2*pi))*exp(-((E-hamiltonian(U,n1,n2)[0].flatten())/sigma)**2/2))"
   ]
  },
  {
   "cell_type": "code",
   "execution_count": 12,
   "metadata": {},
   "outputs": [],
   "source": [
    "def get_chemical_pot(ne): # ne: number of electrons per unit cell\n",
    "    NE,eran,_=hist(hamiltonian(U,n1,n2)[0].flatten(),linspace(-6,6,200),cumulative=True,density=True)\n",
    "    mu= interp1d(NE,eran[:-1])\n",
    "    return mu(ne)"
   ]
  },
  {
   "cell_type": "code",
   "execution_count": 13,
   "metadata": {},
   "outputs": [],
   "source": [
    "def num_of_electron_MKII(mu,site,kbt=0.01,use_Fermi=False):\n",
    "    if use_Fermi:\n",
    "        avg_num_of_elec = (\\\n",
    "        sum(abs(vects[:,site,0])**2*fermi(vals[:,0]-mu,kbt=kbt))+\\\n",
    "        sum(abs(vects[:,site,1])**2*fermi(vals[:,1]-mu,kbt=kbt)))/num_of_eigen_val\n",
    "    else:\n",
    "        avg_num_of_elec = \\\n",
    "        (sum(abs(vects[vals[:,0]<mu,site,0])**2)+\\\n",
    "         sum(abs(vects[vals[:,1]<mu,site,1])**2))/num_of_eigen_val # len hamiltonian 0]\n",
    "    return avg_num_of_elec"
   ]
  },
  {
   "cell_type": "code",
   "execution_count": 16,
   "metadata": {},
   "outputs": [],
   "source": [
    "# a function that would find the new occupation number for each site, it needs to be run in a self consistency loop, this vergion can be used with while loop    \n",
    "        \n",
    "def self_consistency(n1_do,n2_do,n1_up,n2_up):\n",
    "       \n",
    "\n",
    "        vals_up,vects_up = make_spectr(U,n1_do,n2_do)\n",
    "        vals_do,vects_do = make_spectr(U,n1_up,n2_up)\n",
    "        \n",
    "        # FIX THE STUF DOWN FROM HERE\n",
    "        num_of_eigen_val = len(vals_up)\n",
    "        \n",
    "        #NE_up,eran_up,_= hist(vals_up.flatten(),linspace(-6,6,200),cumulative=True,density=True)\n",
    "        #mu_up = interp1d(NE_up,eran_up[:-1],fill_value=\"extrapolate\")\n",
    "        \n",
    "        #NE_do,eran_do,_= hist(vals_do.flatten(),linspace(-6,6,200),cumulative=True,density=True)\n",
    "        #mu_do = interp1d(NE_do,eran_up[:-1],fill_value=\"extrapolate\")\n",
    "        \n",
    "        NE,eran,_= hist(array([vals_up,vals_do]).flatten(),linspace(-6,6,200),cumulative=True,density=True)\n",
    "        mu = interpolate.interp1d(NE,eran[:-1],fill_value=\"extrapolate\")\n",
    "        \n",
    "        n1_do_new = sum(abs(vects_do[vals_do[:,0]<mu(ne),0,0])**2)/num_of_eigen_val\n",
    "        n2_do_new = sum(abs(vects_do[vals_do[:,1]<mu(ne),1,1])**2)/num_of_eigen_val\n",
    "        n1_up_new = sum(abs(vects_up[vals_up[:,1]<mu(ne),0,1])**2)/num_of_eigen_val\n",
    "        n2_up_new = sum(abs(vects_up[vals_up[:,1]<mu(ne),1,0])**2)/num_of_eigen_val\n",
    "        \n",
    "        \n",
    "\n",
    "        # this is a comment\n",
    "       \n",
    "        return n1_do_new ,n2_do_new, n1_up_new, n2_up_new  # it should return the new n's\n",
    "    "
   ]
  },
  {
   "cell_type": "code",
   "execution_count": 20,
   "metadata": {},
   "outputs": [],
   "source": [
    "# a function that would find the new occupation number for each site, it needs to be run in a self consistency loop, this vergion can be used with fixed point f'n     \n",
    "def self_consistency2(ns):\n",
    "        n1_do,n2_do,n1_up,n2_up = ns  \n",
    "\n",
    "        vals_up,vects_up = make_spectr(U,n1_do,n2_do)\n",
    "        vals_do,vects_do = make_spectr(U,n1_up,n2_up)\n",
    "        \n",
    "        # FIX THE STUF DOWN FROM HERE\n",
    "        num_of_eigen_val = len(vals_up)\n",
    "        \n",
    "        #NE_up,eran_up,_= hist(vals_up.flatten(),linspace(-6,6,200),cumulative=True,density=True)\n",
    "        #mu_up = interp1d(NE_up,eran_up[:-1],fill_value=\"extrapolate\")\n",
    "        \n",
    "        #NE_do,eran_do,_= hist(vals_do.flatten(),linspace(-6,6,200),cumulative=True,density=True)\n",
    "        #mu_do = interp1d(NE_do,eran_up[:-1],fill_value=\"extrapolate\")\n",
    "        \n",
    "        NE,eran,_= hist(array([vals_up,vals_do]).flatten(),linspace(-6,6,200),cumulative=True,density=True)\n",
    "        mu = interpolate.interp1d(NE,eran[:-1],fill_value=\"extrapolate\")\n",
    "        \n",
    "        n1_do_new = sum(abs(vects_do[vals_do[:,0]<mu(ne),0,0])**2)/num_of_eigen_val\n",
    "        n2_do_new = sum(abs(vects_do[vals_do[:,1]<mu(ne),1,1])**2)/num_of_eigen_val\n",
    "        n1_up_new = sum(abs(vects_up[vals_up[:,1]<mu(ne),0,1])**2)/num_of_eigen_val\n",
    "        n2_up_new = sum(abs(vects_up[vals_up[:,1]<mu(ne),1,0])**2)/num_of_eigen_val\n",
    "        \n",
    "        \n",
    "\n",
    "        # this is a comment\n",
    "       \n",
    "        return array([n1_do_new ,n2_do_new, n1_up_new, n2_up_new]) "
   ]
  },
  {
   "cell_type": "code",
   "execution_count": null,
   "metadata": {},
   "outputs": [],
   "source": [
    "n1_up = (ne/4) + delta # intial values of occupation on sites\n",
    "n1_do = (ne/4) - delta\n",
    "n2_up = (ne/4) + delta\n",
    "n2_do = (ne/4) - delta\n",
    "discrepancy = 10\n",
    "while discrepancy >= 10**-5:  # while loop to find the self consistant ocuupation numbers\n",
    "    \n",
    "    n1_do_new ,n2_do_new, n1_up_new, n2_up_new  = self_consistency(n1_do,n2_do,n1_up,n2_up)\n",
    "    \n",
    "    discrepancy = sqrt((n1_up_new-n1_up)**2+\n",
    "                           (n2_up_new-n2_up)**2+\n",
    "                           (n1_do_new-n1_do)**2+\n",
    "                           (n2_do_new-n2_do)**2)\n",
    "    n1_up,n2_up, n1_do,n2_do = n1_up_new,n2_up_new ,n1_do_new,n2_do_new\n",
    "    print(discrepancy)\n",
    "\n",
    "\n",
    "    \n",
    "    \n",
    "    "
   ]
  },
  {
   "cell_type": "code",
   "execution_count": null,
   "metadata": {},
   "outputs": [],
   "source": [
    "n1_up = (ne/4) + delta #occupation on site 1\n",
    "n1_do = (ne/4) - delta\n",
    "n2_up = (ne/4) + delta\n",
    "n2_do = (ne/4) - delta\n",
    "\n",
    "optimize.fixed_point(self_consistency2,[n1_up,n2_up, n1_do,n2_do ])   # another method using fixed point function to find the self consistant solution"
   ]
  },
  {
   "cell_type": "code",
   "execution_count": 14,
   "metadata": {},
   "outputs": [],
   "source": [
    "def total_energy (U,ne):  # i'm a bit confused on how to find the total energy\n",
    "    discrepancy = 10\n",
    "\n",
    "    n1_up,n2_up = ne/4+delta,ne/4-delta\n",
    "    #n1_do,n2_do = ne/2-delta,ne/2+delta #AFM\n",
    "    n1_do,n2_do = ne/4+delta,ne/4-delta  #FM\n",
    "    vals_up, vects_up, vals_do, vects_do = self_consistency(U,n1_do,n2_do,n1_up,n2_up)\n",
    "\n",
    "    return(total_energy)"
   ]
  },
  {
   "cell_type": "code",
   "execution_count": 17,
   "metadata": {},
   "outputs": [],
   "source": [
    "#class HubbardModel():\n",
    "    \n",
    " #   def __init__(self,on_site_energy,coulomb_repulsion,number_of_electrons_per_unit_cell):\n",
    "        \n",
    "  #      self.on_site_energy=on_site_energy\n",
    "   #     self.coulomb_repulsion=coulomb_repulsion\n",
    "    #    self.number_of_electrons_per_unit_cell\n",
    "    "
   ]
  },
  {
   "cell_type": "code",
   "execution_count": null,
   "metadata": {},
   "outputs": [],
   "source": []
  }
 ],
 "metadata": {
  "kernelspec": {
   "display_name": "Python 3",
   "language": "python",
   "name": "python3"
  },
  "language_info": {
   "codemirror_mode": {
    "name": "ipython",
    "version": 3
   },
   "file_extension": ".py",
   "mimetype": "text/x-python",
   "name": "python",
   "nbconvert_exporter": "python",
   "pygments_lexer": "ipython3",
   "version": "3.7.6"
  }
 },
 "nbformat": 4,
 "nbformat_minor": 4
}
