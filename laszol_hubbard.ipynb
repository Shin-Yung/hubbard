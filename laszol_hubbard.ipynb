{
 "cells": [
  {
   "cell_type": "code",
   "execution_count": 1,
   "metadata": {},
   "outputs": [
    {
     "name": "stdout",
     "output_type": "stream",
     "text": [
      "Populating the interactive namespace from numpy and matplotlib\n"
     ]
    }
   ],
   "source": [
    "%pylab widget\n",
    "from scipy import interpolate\n",
    "from scipy import optimize\n",
    "from numba import njit\n",
    "import tqdm"
   ]
  },
  {
   "cell_type": "markdown",
   "metadata": {},
   "source": [
    "Our aim in this notebook is to reproduce [this](https://arxiv.org/pdf/1403.2259.pdf) paper."
   ]
  },
  {
   "cell_type": "code",
   "execution_count": 2,
   "metadata": {},
   "outputs": [],
   "source": [
    "nk = 200\n",
    "kran = linspace(-pi,pi,nk,endpoint=False)\n",
    "kx,ky = meshgrid(kran,kran)\n",
    "kx = kx.flatten()\n",
    "ky = ky.flatten()\n",
    "gamma = -(1+exp(-1j*2*kx)+exp(-1j*(kx-ky))+exp(-1j*(kx+ky)))\n",
    "H0k = zeros((len(gamma),2,2),dtype=complex)\n",
    "H0k[:,0,1] = gamma\n",
    "H0k[:,1,0] = conj(gamma)"
   ]
  },
  {
   "cell_type": "code",
   "execution_count": 3,
   "metadata": {},
   "outputs": [],
   "source": [
    "def make_spectr(U,n1,n2):\n",
    "    Hk = H0k.copy()\n",
    "    Hk[:,0,0] = U*n1\n",
    "    Hk[:,1,1] = U*n2\n",
    "    return eigh(Hk)"
   ]
  },
  {
   "cell_type": "code",
   "execution_count": 4,
   "metadata": {},
   "outputs": [],
   "source": [
    "@njit\n",
    "def fFD(e,kbt=0.01):\n",
    "    return 1/(exp(e/kbt)+1)\n",
    "@njit\n",
    "def dfFD(e,kbt=0.01):\n",
    "    return -1/(kbt*cosh(e/kbt/2))\n",
    "# pay respect to the jit god\n",
    "fFD(rand(10,10),0.1);\n",
    "dfFD(rand(10,10),0.1);"
   ]
  },
  {
   "cell_type": "code",
   "execution_count": 5,
   "metadata": {},
   "outputs": [],
   "source": [
    "def scf_update(ns,U=1,ne=1,kbt=0.05,root=True):\n",
    "    \n",
    "    # unpack occupation numbers\n",
    "    n1up,n1do,n2up,n2do = ns\n",
    "    \n",
    "    # get new spectrum and wavefunctions\n",
    "    # vals_up[ik,i] the i-th eigenvalue of up electrons at the ik-th k point\n",
    "    # vecs_up[ik,site,i] the i-th wavefunction of up electrons at the ik-th k point evaluated at site \"site\".\n",
    "    vals_up,vecs_up = make_spectr(U,n1do,n2do)\n",
    "    vals_do,vecs_do = make_spectr(U,n1up,n2up)\n",
    "\n",
    "    # find new value for the chemical potential\n",
    "    rho,eran = histogram(array([vals_up,vals_do]).flatten(),1000,density=True)\n",
    "    rho = convolve(rho,hamming(10),mode='same')/5 # some additional smoothing\n",
    "    NE = cumsum(rho)*diff(eran)[0]\n",
    "    mu_from_ne = interpolate.interp1d(4*NE, eran[1:],kind='zero',fill_value=\"extrapolate\")\n",
    "    mu = float(mu_from_ne(ne))\n",
    "    \n",
    "    # find new occupation numbers\n",
    "    n1up_new = (sum(abs(vecs_up[:,0,0])**2*fFD(vals_up[:,0]-mu,kbt))\n",
    "               +sum(abs(vecs_up[:,0,1])**2*fFD(vals_up[:,1]-mu,kbt)))/nk**2\n",
    "\n",
    "    n2up_new = (sum(abs(vecs_up[:,1,0])**2*fFD(vals_up[:,0]-mu,kbt))\n",
    "               +sum(abs(vecs_up[:,1,1])**2*fFD(vals_up[:,1]-mu,kbt)))/nk**2\n",
    "\n",
    "    n1do_new = (sum(abs(vecs_do[:,0,0])**2*fFD(vals_do[:,0]-mu,kbt))\n",
    "               +sum(abs(vecs_do[:,0,1])**2*fFD(vals_do[:,1]-mu,kbt)))/nk**2\n",
    "\n",
    "    n2do_new = (sum(abs(vecs_do[:,1,0])**2*fFD(vals_do[:,0]-mu,kbt))\n",
    "               +sum(abs(vecs_do[:,1,1])**2*fFD(vals_do[:,1]-mu,kbt)))/nk**2\n",
    "\n",
    "    if ((n1up > n1do) and (n1up_new < n1do_new)) or ((n1do > n1up) and (n1do_new < n1up_new) ):\n",
    "        print('flip 1')\n",
    "        n1up_new,n1do_new = n1do_new,n1up_new\n",
    "\n",
    "    if ((n2up > n2do) and (n2up_new < n2do_new)) or ((n2do > n2up) and (n2do_new < n2up_new) ):\n",
    "        print('flip 2')\n",
    "        n2up_new,n2do_new = n2do_new,n2up_new\n",
    "\n",
    "        \n",
    "    ns_new = array([n1up_new,n1do_new,n2up_new,n2do_new])\n",
    "    #print(sum(ns_new)-ne)\n",
    "    ns_new = ns_new*ne/sum(ns_new) # force sum to be ne\n",
    "        \n",
    "    if root:    \n",
    "        return ns_new-ns\n",
    "    else:\n",
    "        return ns_new\n"
   ]
  },
  {
   "cell_type": "markdown",
   "metadata": {},
   "source": [
    "‘hybr’\n",
    "‘lm’\n",
    "‘broyden1’\n",
    "‘broyden2’\n",
    "‘anderson’\n",
    "‘linearmixing’\n",
    "‘diagbroyden’\n",
    "‘excitingmixing’\n",
    "‘krylov’\n",
    "‘df-sane’ "
   ]
  },
  {
   "cell_type": "code",
   "execution_count": 6,
   "metadata": {},
   "outputs": [],
   "source": [
    "def get_etot(ns,U=1,kbt=0.05):\n",
    "\n",
    "    # unpack occupation numbers\n",
    "    n1up,n1do,n2up,n2do = ns\n",
    "    \n",
    "    # get new spectrum and wavefunctions\n",
    "    # vals_up[ik,i] the i-th eigenvalue of up electrons at the ik-th k point\n",
    "    # vecs_up[ik,site,i] the i-th wavefunction of up electrons at the ik-th k point evaluated at site \"site\".\n",
    "    vals_up,vecs_up = make_spectr(U,n1do,n2do)\n",
    "    vals_do,vecs_do = make_spectr(U,n1up,n2up)\n",
    "    \n",
    "    # find new value for the chemical potential\n",
    "    rho,eran = histogram(array([vals_up,vals_do]).flatten(),1000,density=True)\n",
    "    rho = convolve(rho,hamming(10),mode='same')/5 # some additional smoothing\n",
    "    NE = cumsum(rho)*diff(eran)[0]\n",
    "    mu_from_ne = interpolate.interp1d(4*NE, eran[1:],kind='zero',fill_value=\"extrapolate\")\n",
    "    mu = float(mu_from_ne(ne))\n",
    "    \n",
    "    etot=sum(vals_up[:,0]*fFD(vals_up[:,0]-mu,kbt))+\\\n",
    "         sum(vals_up[:,1]*fFD(vals_up[:,1]-mu,kbt))+\\\n",
    "         sum(vals_do[:,0]*fFD(vals_do[:,0]-mu,kbt))+\\\n",
    "         sum(vals_do[:,1]*fFD(vals_do[:,1]-mu,kbt))+\\\n",
    "        -U*(n1up*n1do+n2up*n2do)*len(vals_up)\n",
    "    return etot"
   ]
  },
  {
   "cell_type": "code",
   "execution_count": 28,
   "metadata": {},
   "outputs": [
    {
     "data": {
      "application/vnd.jupyter.widget-view+json": {
       "model_id": "d32643ff3c594df1964df9417048734c",
       "version_major": 2,
       "version_minor": 0
      },
      "text/plain": [
       "HBox(children=(IntProgress(value=0, max=25), HTML(value='')))"
      ]
     },
     "metadata": {},
     "output_type": "display_data"
    },
    {
     "name": "stdout",
     "output_type": "stream",
     "text": [
      "flip 1\n",
      "flip 1\n",
      "flip 1\n",
      "\n"
     ]
    }
   ],
   "source": [
    "Uran=linspace(0.1,0.35,25)\n",
    "kbt=0.005\n",
    "ne = 1.6\n",
    "delta= 1.5\n",
    "\n",
    "n1up,n1do=ne/4+delta/4,ne/4-delta/4\n",
    "n2up,n2do=ne/4+delta/4,ne/4-delta/4\n",
    "\n",
    "ne = n1up+n1do+n2up+n2do # total number of particles in the unitcell 0..4\n",
    "ns = array([n1up,n1do,n2up,n2do])\n",
    "\n",
    "dat_ferro=[]\n",
    "for ooU in tqdm.tqdm_notebook(Uran):\n",
    "    scf_args = (1/ooU,ne,kbt,True)\n",
    "    sol_root = optimize.root(scf_update,\n",
    "                         ns,\n",
    "                         args=scf_args,\n",
    "                         method='broyden1',\n",
    "                         options=dict(disp=False,fatol=1e-4))\n",
    "    dat_ferro.append([sol_root.x,get_etot(sol_root.x,1/ooU,kbt)])"
   ]
  },
  {
   "cell_type": "code",
   "execution_count": 31,
   "metadata": {},
   "outputs": [
    {
     "data": {
      "application/vnd.jupyter.widget-view+json": {
       "model_id": "15f57c0b5a054f73bb1db54da26a50e0",
       "version_major": 2,
       "version_minor": 0
      },
      "text/plain": [
       "HBox(children=(IntProgress(value=0, max=25), HTML(value='')))"
      ]
     },
     "metadata": {},
     "output_type": "display_data"
    },
    {
     "name": "stdout",
     "output_type": "stream",
     "text": [
      "\n"
     ]
    }
   ],
   "source": [
    "Uran=linspace(0.1,0.35,25)\n",
    "kbt=0.0125\n",
    "ne = 1.6\n",
    "delta= 1.5\n",
    "\n",
    "n1up,n1do=ne/4+delta/4,ne/4-delta/4\n",
    "n2up,n2do=ne/4-delta/4,ne/4+delta/4\n",
    "\n",
    "ne = n1up+n1do+n2up+n2do # total number of particles in the unitcell 0..4\n",
    "ns = array([n1up,n1do,n2up,n2do])\n",
    "\n",
    "dat_antiferro=[]\n",
    "for ooU in tqdm.tqdm_notebook(Uran):\n",
    "    scf_args = (1/ooU,ne,kbt,True)\n",
    "    sol_root = optimize.root(scf_update,\n",
    "                         ns,\n",
    "                         args=scf_args,\n",
    "                         method='broyden1',\n",
    "                         options=dict(disp=False,fatol=1e-4))\n",
    "    dat_antiferro.append([sol_root.x,get_etot(sol_root.x,1/ooU,kbt)])"
   ]
  },
  {
   "cell_type": "code",
   "execution_count": 21,
   "metadata": {},
   "outputs": [
    {
     "data": {
      "application/vnd.jupyter.widget-view+json": {
       "model_id": "bccb8ba4bc7a41bd961f071efb59177f",
       "version_major": 2,
       "version_minor": 0
      },
      "text/plain": [
       "HBox(children=(IntProgress(value=0, max=25), HTML(value='')))"
      ]
     },
     "metadata": {},
     "output_type": "display_data"
    },
    {
     "name": "stdout",
     "output_type": "stream",
     "text": [
      "\n"
     ]
    }
   ],
   "source": [
    "dat_para=[]\n",
    "for ooU in tqdm.tqdm_notebook(Uran):\n",
    "    dat_para.append([array([ne/4,ne/4,ne/4,ne/4]),get_etot([ne/4,ne/4,ne/4,ne/4],1/ooU,kbt)])"
   ]
  },
  {
   "cell_type": "code",
   "execution_count": 29,
   "metadata": {},
   "outputs": [
    {
     "data": {
      "application/vnd.jupyter.widget-view+json": {
       "model_id": "ef2d95323c7d42a583d794ce0bf204c9",
       "version_major": 2,
       "version_minor": 0
      },
      "text/plain": [
       "Canvas(toolbar=Toolbar(toolitems=[('Home', 'Reset original view', 'home', 'home'), ('Back', 'Back to previous …"
      ]
     },
     "metadata": {},
     "output_type": "display_data"
    }
   ],
   "source": [
    "plt.close(1)\n",
    "plt.figure(1)\n",
    "subplot(211)\n",
    "plot(Uran,[d[1]/nk**2 for d in dat_ferro],'r-',label='FM')\n",
    "plot(Uran,[d[1]/nk**2 for d in dat_antiferro],'k--',label='AFM')\n",
    "plot(Uran,[d[1]/nk**2 for d in dat_para],'b:',label='PM')\n",
    "legend()\n",
    "ylabel(r'$F$')\n",
    "xlabel(r'$1/U$')\n",
    "grid()\n",
    "subplot(212)\n",
    "plot(Uran,[abs(d[0][0]-d[0][1]) for d in dat_ferro],'r-',label='FM')\n",
    "plot(Uran,[abs(d[0][0]-d[0][1]) for d in dat_antiferro],'k--',label='AFM')\n",
    "plot(Uran,[abs(d[0][0]-d[0][1]) for d in dat_para],'b:',label='PM')\n",
    "legend()\n",
    "ylabel(r'$m$')\n",
    "xlabel(r'$1/U$')\n",
    "grid()\n",
    "tight_layout()"
   ]
  },
  {
   "cell_type": "code",
   "execution_count": 36,
   "metadata": {},
   "outputs": [],
   "source": [
    "Etot=array([[dat_ferro[i][1],dat_antiferro[i][1],dat_para[i][1]]for i in range(len(Uran))])/nk**2"
   ]
  },
  {
   "cell_type": "code",
   "execution_count": 40,
   "metadata": {},
   "outputs": [],
   "source": [
    "fap=argmin(Etot,axis=1)"
   ]
  },
  {
   "cell_type": "code",
   "execution_count": 44,
   "metadata": {},
   "outputs": [
    {
     "data": {
      "application/vnd.jupyter.widget-view+json": {
       "model_id": "7c9ae7d82e344ed69b85512d72fe5685",
       "version_major": 2,
       "version_minor": 0
      },
      "text/plain": [
       "Canvas(toolbar=Toolbar(toolitems=[('Home', 'Reset original view', 'home', 'home'), ('Back', 'Back to previous …"
      ]
     },
     "metadata": {},
     "output_type": "display_data"
    },
    {
     "data": {
      "text/plain": [
       "[<matplotlib.lines.Line2D at 0x7f90f4403198>]"
      ]
     },
     "execution_count": 44,
     "metadata": {},
     "output_type": "execute_result"
    }
   ],
   "source": [
    "plt.close(2)\n",
    "plt.figure(2)\n",
    "plot(Uran[fap==0],ones_like(Uran[fap==0]),'o')\n",
    "plot(Uran[fap==1],ones_like(Uran[fap==1]),'o')"
   ]
  },
  {
   "cell_type": "code",
   "execution_count": null,
   "metadata": {},
   "outputs": [],
   "source": []
  }
 ],
 "metadata": {
  "kernelspec": {
   "display_name": "Python 3",
   "language": "python",
   "name": "python3"
  },
  "language_info": {
   "codemirror_mode": {
    "name": "ipython",
    "version": 3
   },
   "file_extension": ".py",
   "mimetype": "text/x-python",
   "name": "python",
   "nbconvert_exporter": "python",
   "pygments_lexer": "ipython3",
   "version": "3.7.3"
  }
 },
 "nbformat": 4,
 "nbformat_minor": 4
}
