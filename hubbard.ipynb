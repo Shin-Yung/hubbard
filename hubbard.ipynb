{
 "cells": [
  {
   "cell_type": "code",
   "execution_count": 8,
   "metadata": {},
   "outputs": [
    {
     "name": "stdout",
     "output_type": "stream",
     "text": [
      "Populating the interactive namespace from numpy and matplotlib\n"
     ]
    }
   ],
   "source": [
    "%pylab inline\n",
    "from scipy.interpolate import interp1d\n",
    "import scipy as sc"
   ]
  },
  {
   "cell_type": "code",
   "execution_count": 13,
   "metadata": {},
   "outputs": [],
   "source": [
    "e = 1  # onsite energy\n",
    "t = 1 # hopping\n",
    "U = 1 # coulob repulsion\n",
    "ne = 1.4 # number of electrons per unit cell/ occupation number\n",
    "T = 1 # tempreture\n",
    "n1 = 1 #occupation on site 1\n",
    "n2 = 1 #occupation on site 1\n",
    "sigma=0.02"
   ]
  },
  {
   "cell_type": "code",
   "execution_count": 10,
   "metadata": {},
   "outputs": [],
   "source": [
    "def hamiltonian(U,n1,n2,kxran=linspace(-pi,pi,200,endpoint=False),\n",
    "                        kyran=linspace(-pi,pi,200,endpoint=False)):\n",
    "    eigenval=[]\n",
    "    eigenvec=[]\n",
    "    for kx in kxran:\n",
    "        for ky in kyran:\n",
    "            gamma = 1+exp(-1j*2*kx)+exp(-1j*(kx+ky))+exp(-1j*(kx-ky))\n",
    "            H = array([[U*n1           ,-1*gamma],\n",
    "                       [-1*conj(gamma),U*n2     ]])\n",
    "            w,v =eigh(H)\n",
    "            eigenval.append(w)\n",
    "            eigenvec.append(v)\n",
    "    return array(eigenval),array(eigenvec)"
   ]
  },
  {
   "cell_type": "code",
   "execution_count": 11,
   "metadata": {},
   "outputs": [],
   "source": [
    "def densty(E,sigma=0.02):\n",
    "    return sum(1/(sigma*sqrt(2*pi))*exp(-((E-hamiltonian(U,n1,n2)[0].flatten())/sigma)**2/2))"
   ]
  },
  {
   "cell_type": "code",
   "execution_count": 17,
   "metadata": {},
   "outputs": [],
   "source": [
    "def get_chemical_pot(ne): # ne: number of electrons per unit cell\n",
    "    NE,eran,_=hist(hamiltonian(U,n1,n2)[0].flatten(),linspace(-6,6,200),cumulative=True,density=True)\n",
    "    mu= interp1d(NE,eran[:-1])\n",
    "    return mu(ne)"
   ]
  },
  {
   "cell_type": "code",
   "execution_count": 6,
   "metadata": {},
   "outputs": [],
   "source": [
    "def num_of_electron_MKII(mu,site,kbt=0.01,use_Fermi=False):\n",
    "    if use_Fermi:\n",
    "        avg_num_of_elec = (\\\n",
    "        sum(abs(vects[:,site,0])**2*fermi(vals[:,0]-mu,kbt=kbt))+\\\n",
    "        sum(abs(vects[:,site,1])**2*fermi(vals[:,1]-mu,kbt=kbt)))/num_of_eigen_val\n",
    "    else:\n",
    "        avg_num_of_elec = \\\n",
    "        (sum(abs(vects[vals[:,0]<mu,site,0])**2)+\\\n",
    "         sum(abs(vects[vals[:,1]<mu,site,1])**2))/num_of_eigen_val # len hamiltonian 0]\n",
    "    return avg_num_of_elec"
   ]
  },
  {
   "cell_type": "code",
   "execution_count": null,
   "metadata": {},
   "outputs": [],
   "source": [
    "occin = n1+n2 # occupation in unit cell\n",
    "occout == 1\n",
    "\n",
    "\n",
    "n1_up,n2_up = ne/2+delta,ne/2-delta\n",
    "#n1_do,n2_do = ne/2-delta,ne/2+delta #AFM\n",
    "n1_do,n2_do = ne/2+delta,ne/2-delta  #FM\n",
    "while discrepancy >= 10**-5:\n",
    "    vals_up,vects_up = hamiltonian(U,n1_do,n2_do)\n",
    "    vals_do,vects_do = hamiltonian(U,n1_up,n2_up)\n",
    "    # FIX THE STUF DOWN FROM HERE\n",
    "    num_of_eigen_val = len(vals)\n",
    "    sum(1/(sigma*sqrt(2*pi))*exp(-((E-vals.flatten())/sigma)**2/2))\n",
    "    NE,eran,_=hist(vals.flatten(),linspace(-6,6,200),cumulative=True,density=True)\n",
    "    mu = interp1d(NE,eran[:-1])\n",
    "    avg_num_of_elec = \\\n",
    "    (sum(abs(vects[vals[:,0]<mu(ne),site,0])**2)+\\\n",
    "    sum(abs(vects[vals[:,1]<mu(ne),site,1])**2))/num_of_eigen_val "
   ]
  },
  {
   "cell_type": "code",
   "execution_count": null,
   "metadata": {},
   "outputs": [],
   "source": [
    "#class HubbardModel():\n",
    "    \n",
    " #   def __init__(self,on_site_energy,coulomb_repulsion,number_of_electrons_per_unit_cell):\n",
    "        \n",
    "  #      self.on_site_energy=on_site_energy\n",
    "   #     self.coulomb_repulsion=coulomb_repulsion\n",
    "    #    self.number_of_electrons_per_unit_cell\n",
    "    "
   ]
  },
  {
   "cell_type": "code",
   "execution_count": null,
   "metadata": {},
   "outputs": [],
   "source": []
  }
 ],
 "metadata": {
  "kernelspec": {
   "display_name": "Python 3",
   "language": "python",
   "name": "python3"
  },
  "language_info": {
   "codemirror_mode": {
    "name": "ipython",
    "version": 3
   },
   "file_extension": ".py",
   "mimetype": "text/x-python",
   "name": "python",
   "nbconvert_exporter": "python",
   "pygments_lexer": "ipython3",
   "version": "3.7.3"
  }
 },
 "nbformat": 4,
 "nbformat_minor": 4
}
