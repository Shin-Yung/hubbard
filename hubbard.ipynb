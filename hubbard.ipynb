{
 "cells": [
  {
   "cell_type": "code",
   "execution_count": 1,
   "metadata": {},
   "outputs": [
    {
     "name": "stdout",
     "output_type": "stream",
     "text": [
      "Populating the interactive namespace from numpy and matplotlib\n"
     ]
    }
   ],
   "source": [
    "%pylab inline\n",
    "from scipy import interpolate\n",
    "from scipy import optimize"
   ]
  },
  {
   "cell_type": "code",
   "execution_count": 2,
   "metadata": {},
   "outputs": [],
   "source": [
    "e = 1  # onsite energy\n",
    "t = 1 # hopping\n",
    "U = 15 # coulob repulsion\n",
    "ne = 1.4 # number of electrons per unit cell/ occupation number\n",
    "T = 1 # tempreture\n",
    "delta=0.1\n",
    "\n",
    "sigma=0.02\n",
    "# The occupation number independent part of the Hamiltonina\n",
    "nk = 200\n",
    "kran = linspace(-pi,pi,nk,endpoint=False)\n",
    "kx,ky = meshgrid(kran,kran)\n",
    "kx = kx.flatten()\n",
    "ky = ky.flatten()\n",
    "gamma = -(1+exp(-1j*2*kx)+exp(-1j*(kx-ky))+exp(-1j*(kx+ky)))\n",
    "H0k = zeros((len(gamma),2,2),dtype=complex)\n",
    "H0k[:,0,1] = gamma\n",
    "H0k[:,1,0] = conj(gamma)"
   ]
  },
  {
   "cell_type": "code",
   "execution_count": 3,
   "metadata": {},
   "outputs": [],
   "source": [
    "# this generates eigen values and eigen vectors and returns them \n",
    "def make_spectr(U,n1,n2):\n",
    "    Hk = H0k.copy()\n",
    "    Hk[:,0,0] = U*n1\n",
    "    Hk[:,1,1] = U*n2\n",
    "    return eigh(Hk)"
   ]
  },
  {
   "cell_type": "code",
   "execution_count": 4,
   "metadata": {},
   "outputs": [],
   "source": [
    "def densty(E,sigma=0.02):\n",
    "    return sum(1/(sigma*sqrt(2*pi))*exp(-((E-hamiltonian(U,n1,n2)[0].flatten())/sigma)**2/2))"
   ]
  },
  {
   "cell_type": "code",
   "execution_count": 5,
   "metadata": {},
   "outputs": [],
   "source": [
    "def get_chemical_pot(ne): # ne: number of electrons per unit cell\n",
    "    NE,eran,_=hist(hamiltonian(U,n1,n2)[0].flatten(),linspace(-6,6,200),cumulative=True,density=True)\n",
    "    mu= interp1d(NE,eran[:-1])\n",
    "    return mu(ne)"
   ]
  },
  {
   "cell_type": "code",
   "execution_count": 6,
   "metadata": {},
   "outputs": [],
   "source": [
    "def num_of_electron_MKII(mu,site,kbt=0.01,use_Fermi=False):\n",
    "    if use_Fermi:\n",
    "        avg_num_of_elec = (\\\n",
    "        sum(abs(vects[:,site,0])**2*fermi(vals[:,0]-mu,kbt=kbt))+\\\n",
    "        sum(abs(vects[:,site,1])**2*fermi(vals[:,1]-mu,kbt=kbt)))/num_of_eigen_val\n",
    "    else:\n",
    "        avg_num_of_elec = \\\n",
    "        (sum(abs(vects[vals[:,0]<mu,site,0])**2)+\\\n",
    "         sum(abs(vects[vals[:,1]<mu,site,1])**2))/num_of_eigen_val # len hamiltonian 0]\n",
    "    return avg_num_of_elec"
   ]
  },
  {
   "cell_type": "code",
   "execution_count": 7,
   "metadata": {},
   "outputs": [],
   "source": [
    "# a function that would find the new occupation number for each site, it needs to be run in a self consistency loop, this vergion can be used with while loop    \n",
    "        \n",
    "def self_consistency(n1_do,n2_do,n1_up,n2_up):\n",
    "       \n",
    "\n",
    "        vals_up,vects_up = make_spectr(U,n1_up,n2_up)\n",
    "        vals_do,vects_do = make_spectr(U,n1_do,n2_do)\n",
    "        \n",
    "        # FIX THE STUF DOWN FROM HERE\n",
    "        num_of_eigen_val = len(vals_up)\n",
    "        \n",
    "        #NE_up,eran_up,_= hist(vals_up.flatten(),linspace(-6,6,200),cumulative=True,density=True)\n",
    "        #mu_up = interp1d(NE_up,eran_up[:-1],fill_value=\"extrapolate\")\n",
    "        \n",
    "        #NE_do,eran_do,_= hist(vals_do.flatten(),linspace(-6,6,200),cumulative=True,density=True)\n",
    "        #mu_do = interp1d(NE_do,eran_up[:-1],fill_value=\"extrapolate\")\n",
    "        \n",
    "        NE,eran,_= hist(array([vals_up,vals_do]).flatten(),linspace(-6,6,200),cumulative=True,density=True)\n",
    "        mu = interpolate.interp1d(NE,eran[:-1],fill_value=\"extrapolate\")\n",
    "        \n",
    "        n1_do_new = sum(abs(vects_do[vals_do[:,0]<mu(ne),0,0])**2)/num_of_eigen_val\n",
    "        n2_do_new = sum(abs(vects_do[vals_do[:,1]<mu(ne),1,1])**2)/num_of_eigen_val\n",
    "        n1_up_new = sum(abs(vects_up[vals_up[:,1]<mu(ne),0,1])**2)/num_of_eigen_val\n",
    "        n2_up_new = sum(abs(vects_up[vals_up[:,1]<mu(ne),1,0])**2)/num_of_eigen_val\n",
    "        \n",
    "        \n",
    "\n",
    "        # this is a comment\n",
    "       \n",
    "        return n1_do_new ,n2_do_new, n1_up_new, n2_up_new  # it should return the new n's\n",
    "    "
   ]
  },
  {
   "cell_type": "code",
   "execution_count": 8,
   "metadata": {},
   "outputs": [],
   "source": [
    "\n",
    "# a function that would find the new occupation number for each site, it needs to be run in a self consistency loop, this vergion can be used with fixed point f'n     \n",
    "def self_consistency2(ns):\n",
    "        n1_do,n2_do,n1_up,n2_up = ns  \n",
    "\n",
    "        vals_up,vects_up = make_spectr(U,n1_do,n2_do)\n",
    "        vals_do,vects_do = make_spectr(U,n1_up,n2_up)\n",
    "        \n",
    "        # FIX THE STUF DOWN FROM HERE\n",
    "        num_of_eigen_val = len(vals_up)\n",
    "        \n",
    "        #NE_up,eran_up,_= hist(vals_up.flatten(),linspace(-6,6,200),cumulative=True,density=True)\n",
    "        #mu_up = interp1d(NE_up,eran_up[:-1],fill_value=\"extrapolate\")\n",
    "        \n",
    "        #NE_do,eran_do,_= hist(vals_do.flatten(),linspace(-6,6,200),cumulative=True,density=True)\n",
    "        #mu_do = interp1d(NE_do,eran_up[:-1],fill_value=\"extrapolate\")\n",
    "        \n",
    "        NE,eran,_= hist(array([vals_up,vals_do]).flatten(),linspace(-6,6,200),cumulative=True,density=True)\n",
    "        mu = interpolate.interp1d(NE,eran[:-1],fill_value=\"extrapolate\")\n",
    "        \n",
    "        n1_do_new = sum(abs(vects_do[vals_do[:,0]<mu(ne),0,0])**2)/num_of_eigen_val\n",
    "        \n",
    "        n1up_new = (sum(abs(vecs_up[:,0,0])**2*fFD(vals_up[:,0]-mu,kbt))\n",
    "               +sum(abs(vecs_up[:,0,1])**2*fFD(vals_up[:,1]-mu,kbt)))/nk**2\n",
    "        \n",
    "        \n",
    "        n2_do_new = sum(abs(vects_do[vals_do[:,1]<mu(ne),1,1])**2)/num_of_eigen_val\n",
    "        n1_up_new = sum(abs(vects_up[vals_up[:,1]<mu(ne),0,1])**2)/num_of_eigen_val\n",
    "        n2_up_new = sum(abs(vects_up[vals_up[:,1]<mu(ne),1,0])**2)/num_of_eigen_val  ## you should normlize themm all to be\n",
    "        \n",
    "        ns_new = array([n1_do_new ,n2_do_new, n1_up_new, n2_up_new])\n",
    "        ns_new = (ns_new * ne)/ sum(ns_new)\n",
    "        \n",
    "        \n",
    "\n",
    "        # this is a comment\n",
    "       \n",
    "        return array([n1_do_new ,n2_do_new, n1_up_new, n2_up_new]) - ns"
   ]
  },
  {
   "cell_type": "code",
   "execution_count": 9,
   "metadata": {},
   "outputs": [
    {
     "name": "stderr",
     "output_type": "stream",
     "text": [
      "/home/assem/anaconda3/lib/python3.7/site-packages/scipy/interpolate/interpolate.py:609: RuntimeWarning: divide by zero encountered in true_divide\n",
      "  slope = (y_hi - y_lo) / (x_hi - x_lo)[:, None]\n"
     ]
    },
    {
     "name": "stdout",
     "output_type": "stream",
     "text": [
      "0:  |F(x)| = 0.48603; step 1\n",
      "1:  |F(x)| = 0.322164; step 1\n",
      "2:  |F(x)| = 0.296053; step 0.0690143\n",
      "3:  |F(x)| = 0.225426; step 0.473131\n",
      "4:  |F(x)| = 0.147811; step 1\n",
      "5:  |F(x)| = 0.105061; step 1\n",
      "6:  |F(x)| = 0.0862594; step 0.275541\n",
      "7:  |F(x)| = 0.0805731; step 0.0625134\n",
      "8:  |F(x)| = 0.286354; step 1\n"
     ]
    },
    {
     "name": "stderr",
     "output_type": "stream",
     "text": [
      "/home/assem/anaconda3/lib/python3.7/site-packages/ipykernel_launcher.py:26: RuntimeWarning: invalid value encountered in true_divide\n"
     ]
    },
    {
     "name": "stdout",
     "output_type": "stream",
     "text": [
      "9:  |F(x)| = 0.266222; step 0.0236947\n",
      "10:  |F(x)| = 0.0367535; step 0.269217\n",
      "11:  |F(x)| = 0.0229487; step 1\n",
      "12:  |F(x)| = 0.00958503; step 0.0596793\n",
      "13:  |F(x)| = 0.00955995; step 0.00411879\n",
      "14:  |F(x)| = 0.0095589; step 6.97231e-05\n",
      "15:  |F(x)| = 0.00955787; step 0.000167232\n",
      "16:  |F(x)| = 0.00954724; step 0.00112417\n",
      "17:  |F(x)| = 0.125985; step 1\n",
      "18:  |F(x)| = 0.012277; step 1\n",
      "19:  |F(x)| = 0.225488; step 1\n",
      "20:  |F(x)| = 0.0138422; step 1\n",
      "21:  |F(x)| = 0.0197307; step 1\n",
      "22:  |F(x)| = 0.00989242; step 1\n",
      "23:  |F(x)| = 0.00943106; step 0.325099\n",
      "24:  |F(x)| = 0.00942242; step 0.00106979\n",
      "25:  |F(x)| = 0.00941353; step 0.00103776\n",
      "26:  |F(x)| = 0.229921; step 1\n",
      "27:  |F(x)| = 0.0245313; step 1\n",
      "28:  |F(x)| = 0.0157453; step 0.416636\n",
      "29:  |F(x)| = 0.0118389; step 1\n",
      "30:  |F(x)| = 0.00934201; step 1\n",
      "31:  |F(x)| = 0.00308495; step 1\n",
      "32:  |F(x)| = 0.00308486; step 0.000119597\n",
      "33:  |F(x)| = 0.00262948; step 1\n",
      "34:  |F(x)| = 0.00261087; step 0.000307178\n",
      "35:  |F(x)| = 0.0144531; step 1\n",
      "36:  |F(x)| = 0.076163; step 1\n",
      "37:  |F(x)| = 0.0117972; step 1\n",
      "38:  |F(x)| = 0.04223; step 1\n",
      "39:  |F(x)| = 0.0560926; step 1\n",
      "40:  |F(x)| = 0.0560891; step 0.000133055\n",
      "41:  |F(x)| = 0.0560571; step 0.000343065\n",
      "42:  |F(x)| = 0.056034; step 0.000754194\n",
      "43:  |F(x)| = 0.0284821; step 0.181993\n",
      "44:  |F(x)| = 0.0300682; step 0.0305557\n",
      "45:  |F(x)| = 0.056314; step 1\n",
      "46:  |F(x)| = 0.0620245; step 0.194643\n",
      "47:  |F(x)| = 2.18247; step 1\n",
      "48:  |F(x)| = 0.0729275; step 1\n",
      "49:  |F(x)| = 0.0613582; step 1\n",
      "50:  |F(x)| = 0.056159; step 1\n",
      "51:  |F(x)| = 0.160765; step 1\n",
      "52:  |F(x)| = 0.102703; step 0.127531\n",
      "53:  |F(x)| = 1.09819; step 1\n",
      "54:  |F(x)| = 0.16102; step 1\n",
      "55:  |F(x)| = 0.136222; step 1\n",
      "56:  |F(x)| = 0.128128; step 0.428\n",
      "57:  |F(x)| = 0.125357; step 0.0327387\n",
      "58:  |F(x)| = 0.389818; step 1\n",
      "59:  |F(x)| = 0.108139; step 1\n",
      "60:  |F(x)| = 0.100518; step 0.0439209\n",
      "61:  |F(x)| = 0.10037; step 0.0166832\n",
      "62:  |F(x)| = 0.0918271; step 0.0242039\n",
      "63:  |F(x)| = 0.170317; step 1\n",
      "64:  |F(x)| = 0.161261; step 1\n",
      "65:  |F(x)| = 0.15034; step 0.494347\n",
      "66:  |F(x)| = 0.148502; step 0.0597539\n",
      "67:  |F(x)| = 0.144286; step 0.0187263\n",
      "68:  |F(x)| = 0.139585; step 0.0013128\n",
      "69:  |F(x)| = 0.139408; step 0.0361577\n",
      "70:  |F(x)| = 0.12817; step 1\n",
      "71:  |F(x)| = 0.344128; step 1\n",
      "72:  |F(x)| = 0.302096; step 1\n",
      "73:  |F(x)| = 0.503609; step 1\n",
      "74:  |F(x)| = 0.15775; step 1\n",
      "75:  |F(x)| = 0.140004; step 1\n",
      "76:  |F(x)| = 0.100062; step 1\n",
      "77:  |F(x)| = 0.167687; step 1\n",
      "78:  |F(x)| = 0.159804; step 1\n",
      "79:  |F(x)| = 0.123701; step 0.042668\n",
      "80:  |F(x)| = 0.116756; step 0.00689972\n",
      "81:  |F(x)| = 0.112633; step 0.356923\n",
      "82:  |F(x)| = 0.122653; step 1\n",
      "83:  |F(x)| = 0.118568; step 0.415386\n",
      "84:  |F(x)| = 0.23093; step 1\n",
      "85:  |F(x)| = 0.153386; step 1\n",
      "86:  |F(x)| = 0.152459; step 1\n",
      "87:  |F(x)| = 0.132575; step 1\n",
      "88:  |F(x)| = 0.155822; step 1\n",
      "89:  |F(x)| = 0.0162137; step 1\n",
      "90:  |F(x)| = 0.366777; step 1\n",
      "91:  |F(x)| = 0.0341614; step 1\n",
      "92:  |F(x)| = 0.0268754; step 0.0234151\n",
      "93:  |F(x)| = 0.0268451; step 0.00164824\n",
      "94:  |F(x)| = 0.0217845; step 0.000386258\n",
      "95:  |F(x)| = 0.019452; step 1\n",
      "96:  |F(x)| = 0.0151425; step 1\n"
     ]
    },
    {
     "ename": "KeyboardInterrupt",
     "evalue": "",
     "output_type": "error",
     "traceback": [
      "\u001b[0;31m---------------------------------------------------------------------------\u001b[0m",
      "\u001b[0;31mKeyboardInterrupt\u001b[0m                         Traceback (most recent call last)",
      "\u001b[0;32m<ipython-input-9-ed97c27a2964>\u001b[0m in \u001b[0;36m<module>\u001b[0;34m\u001b[0m\n\u001b[1;32m      3\u001b[0m \u001b[0mn2_up\u001b[0m \u001b[0;34m=\u001b[0m \u001b[0;34m(\u001b[0m\u001b[0mne\u001b[0m\u001b[0;34m/\u001b[0m\u001b[0;36m4\u001b[0m\u001b[0;34m)\u001b[0m \u001b[0;34m+\u001b[0m \u001b[0mdelta\u001b[0m\u001b[0;34m\u001b[0m\u001b[0;34m\u001b[0m\u001b[0m\n\u001b[1;32m      4\u001b[0m \u001b[0mn2_do\u001b[0m \u001b[0;34m=\u001b[0m \u001b[0;34m(\u001b[0m\u001b[0mne\u001b[0m\u001b[0;34m/\u001b[0m\u001b[0;36m4\u001b[0m\u001b[0;34m)\u001b[0m \u001b[0;34m-\u001b[0m \u001b[0mdelta\u001b[0m\u001b[0;34m\u001b[0m\u001b[0;34m\u001b[0m\u001b[0m\n\u001b[0;32m----> 5\u001b[0;31m \u001b[0moptimize\u001b[0m\u001b[0;34m.\u001b[0m\u001b[0mroot\u001b[0m\u001b[0;34m(\u001b[0m\u001b[0mself_consistency2\u001b[0m\u001b[0;34m,\u001b[0m \u001b[0mx0\u001b[0m\u001b[0;34m=\u001b[0m\u001b[0;34m[\u001b[0m\u001b[0mn1_up\u001b[0m\u001b[0;34m,\u001b[0m\u001b[0mn2_up\u001b[0m\u001b[0;34m,\u001b[0m \u001b[0mn1_do\u001b[0m\u001b[0;34m,\u001b[0m\u001b[0mn2_do\u001b[0m \u001b[0;34m]\u001b[0m\u001b[0;34m,\u001b[0m\u001b[0mmethod\u001b[0m\u001b[0;34m=\u001b[0m\u001b[0;34m'broyden1'\u001b[0m\u001b[0;34m,\u001b[0m\u001b[0moptions\u001b[0m\u001b[0;34m=\u001b[0m\u001b[0;34m{\u001b[0m\u001b[0;34m'disp'\u001b[0m\u001b[0;34m:\u001b[0m\u001b[0;32mTrue\u001b[0m\u001b[0;34m}\u001b[0m\u001b[0;34m)\u001b[0m\u001b[0;34m\u001b[0m\u001b[0;34m\u001b[0m\u001b[0m\n\u001b[0m",
      "\u001b[0;32m~/anaconda3/lib/python3.7/site-packages/scipy/optimize/_root.py\u001b[0m in \u001b[0;36mroot\u001b[0;34m(fun, x0, args, method, jac, tol, callback, options)\u001b[0m\n\u001b[1;32m    197\u001b[0m         sol = _root_nonlin_solve(fun, x0, args=args, jac=jac,\n\u001b[1;32m    198\u001b[0m                                  \u001b[0m_method\u001b[0m\u001b[0;34m=\u001b[0m\u001b[0mmeth\u001b[0m\u001b[0;34m,\u001b[0m \u001b[0m_callback\u001b[0m\u001b[0;34m=\u001b[0m\u001b[0mcallback\u001b[0m\u001b[0;34m,\u001b[0m\u001b[0;34m\u001b[0m\u001b[0;34m\u001b[0m\u001b[0m\n\u001b[0;32m--> 199\u001b[0;31m                                  **options)\n\u001b[0m\u001b[1;32m    200\u001b[0m     \u001b[0;32melse\u001b[0m\u001b[0;34m:\u001b[0m\u001b[0;34m\u001b[0m\u001b[0;34m\u001b[0m\u001b[0m\n\u001b[1;32m    201\u001b[0m         \u001b[0;32mraise\u001b[0m \u001b[0mValueError\u001b[0m\u001b[0;34m(\u001b[0m\u001b[0;34m'Unknown solver %s'\u001b[0m \u001b[0;34m%\u001b[0m \u001b[0mmethod\u001b[0m\u001b[0;34m)\u001b[0m\u001b[0;34m\u001b[0m\u001b[0;34m\u001b[0m\u001b[0m\n",
      "\u001b[0;32m~/anaconda3/lib/python3.7/site-packages/scipy/optimize/_root.py\u001b[0m in \u001b[0;36m_root_nonlin_solve\u001b[0;34m(func, x0, args, jac, _callback, _method, nit, disp, maxiter, ftol, fatol, xtol, xatol, tol_norm, line_search, jac_options, **unknown_options)\u001b[0m\n\u001b[1;32m    300\u001b[0m                                   \u001b[0mline_search\u001b[0m\u001b[0;34m=\u001b[0m\u001b[0mline_search\u001b[0m\u001b[0;34m,\u001b[0m\u001b[0;34m\u001b[0m\u001b[0;34m\u001b[0m\u001b[0m\n\u001b[1;32m    301\u001b[0m                                   \u001b[0mcallback\u001b[0m\u001b[0;34m=\u001b[0m\u001b[0m_callback\u001b[0m\u001b[0;34m,\u001b[0m \u001b[0mfull_output\u001b[0m\u001b[0;34m=\u001b[0m\u001b[0;32mTrue\u001b[0m\u001b[0;34m,\u001b[0m\u001b[0;34m\u001b[0m\u001b[0;34m\u001b[0m\u001b[0m\n\u001b[0;32m--> 302\u001b[0;31m                                   raise_exception=False)\n\u001b[0m\u001b[1;32m    303\u001b[0m     \u001b[0msol\u001b[0m \u001b[0;34m=\u001b[0m \u001b[0mOptimizeResult\u001b[0m\u001b[0;34m(\u001b[0m\u001b[0mx\u001b[0m\u001b[0;34m=\u001b[0m\u001b[0mx\u001b[0m\u001b[0;34m)\u001b[0m\u001b[0;34m\u001b[0m\u001b[0;34m\u001b[0m\u001b[0m\n\u001b[1;32m    304\u001b[0m     \u001b[0msol\u001b[0m\u001b[0;34m.\u001b[0m\u001b[0mupdate\u001b[0m\u001b[0;34m(\u001b[0m\u001b[0minfo\u001b[0m\u001b[0;34m)\u001b[0m\u001b[0;34m\u001b[0m\u001b[0;34m\u001b[0m\u001b[0m\n",
      "\u001b[0;32m~/anaconda3/lib/python3.7/site-packages/scipy/optimize/nonlin.py\u001b[0m in \u001b[0;36mnonlin_solve\u001b[0;34m(F, x0, jacobian, iter, verbose, maxiter, f_tol, f_rtol, x_tol, x_rtol, tol_norm, line_search, callback, full_output, raise_exception)\u001b[0m\n\u001b[1;32m    320\u001b[0m         \u001b[0;32mif\u001b[0m \u001b[0mline_search\u001b[0m\u001b[0;34m:\u001b[0m\u001b[0;34m\u001b[0m\u001b[0;34m\u001b[0m\u001b[0m\n\u001b[1;32m    321\u001b[0m             s, x, Fx, Fx_norm_new = _nonlin_line_search(func, x, Fx, dx,\n\u001b[0;32m--> 322\u001b[0;31m                                                         line_search)\n\u001b[0m\u001b[1;32m    323\u001b[0m         \u001b[0;32melse\u001b[0m\u001b[0;34m:\u001b[0m\u001b[0;34m\u001b[0m\u001b[0;34m\u001b[0m\u001b[0m\n\u001b[1;32m    324\u001b[0m             \u001b[0ms\u001b[0m \u001b[0;34m=\u001b[0m \u001b[0;36m1.0\u001b[0m\u001b[0;34m\u001b[0m\u001b[0;34m\u001b[0m\u001b[0m\n",
      "\u001b[0;32m~/anaconda3/lib/python3.7/site-packages/scipy/optimize/nonlin.py\u001b[0m in \u001b[0;36m_nonlin_line_search\u001b[0;34m(func, x, Fx, dx, search_type, rdiff, smin)\u001b[0m\n\u001b[1;32m    399\u001b[0m     \u001b[0;32melif\u001b[0m \u001b[0msearch_type\u001b[0m \u001b[0;34m==\u001b[0m \u001b[0;34m'armijo'\u001b[0m\u001b[0;34m:\u001b[0m\u001b[0;34m\u001b[0m\u001b[0;34m\u001b[0m\u001b[0m\n\u001b[1;32m    400\u001b[0m         s, phi1 = scalar_search_armijo(phi, tmp_phi[0], -tmp_phi[0],\n\u001b[0;32m--> 401\u001b[0;31m                                        amin=smin)\n\u001b[0m\u001b[1;32m    402\u001b[0m \u001b[0;34m\u001b[0m\u001b[0m\n\u001b[1;32m    403\u001b[0m     \u001b[0;32mif\u001b[0m \u001b[0ms\u001b[0m \u001b[0;32mis\u001b[0m \u001b[0;32mNone\u001b[0m\u001b[0;34m:\u001b[0m\u001b[0;34m\u001b[0m\u001b[0;34m\u001b[0m\u001b[0m\n",
      "\u001b[0;32m~/anaconda3/lib/python3.7/site-packages/scipy/optimize/linesearch.py\u001b[0m in \u001b[0;36mscalar_search_armijo\u001b[0;34m(phi, phi0, derphi0, c1, alpha0, amin)\u001b[0m\n\u001b[1;32m    690\u001b[0m \u001b[0;34m\u001b[0m\u001b[0m\n\u001b[1;32m    691\u001b[0m     \u001b[0malpha1\u001b[0m \u001b[0;34m=\u001b[0m \u001b[0;34m-\u001b[0m\u001b[0;34m(\u001b[0m\u001b[0mderphi0\u001b[0m\u001b[0;34m)\u001b[0m \u001b[0;34m*\u001b[0m \u001b[0malpha0\u001b[0m\u001b[0;34m**\u001b[0m\u001b[0;36m2\u001b[0m \u001b[0;34m/\u001b[0m \u001b[0;36m2.0\u001b[0m \u001b[0;34m/\u001b[0m \u001b[0;34m(\u001b[0m\u001b[0mphi_a0\u001b[0m \u001b[0;34m-\u001b[0m \u001b[0mphi0\u001b[0m \u001b[0;34m-\u001b[0m \u001b[0mderphi0\u001b[0m \u001b[0;34m*\u001b[0m \u001b[0malpha0\u001b[0m\u001b[0;34m)\u001b[0m\u001b[0;34m\u001b[0m\u001b[0;34m\u001b[0m\u001b[0m\n\u001b[0;32m--> 692\u001b[0;31m     \u001b[0mphi_a1\u001b[0m \u001b[0;34m=\u001b[0m \u001b[0mphi\u001b[0m\u001b[0;34m(\u001b[0m\u001b[0malpha1\u001b[0m\u001b[0;34m)\u001b[0m\u001b[0;34m\u001b[0m\u001b[0;34m\u001b[0m\u001b[0m\n\u001b[0m\u001b[1;32m    693\u001b[0m \u001b[0;34m\u001b[0m\u001b[0m\n\u001b[1;32m    694\u001b[0m     \u001b[0;32mif\u001b[0m \u001b[0;34m(\u001b[0m\u001b[0mphi_a1\u001b[0m \u001b[0;34m<=\u001b[0m \u001b[0mphi0\u001b[0m \u001b[0;34m+\u001b[0m \u001b[0mc1\u001b[0m\u001b[0;34m*\u001b[0m\u001b[0malpha1\u001b[0m\u001b[0;34m*\u001b[0m\u001b[0mderphi0\u001b[0m\u001b[0;34m)\u001b[0m\u001b[0;34m:\u001b[0m\u001b[0;34m\u001b[0m\u001b[0;34m\u001b[0m\u001b[0m\n",
      "\u001b[0;32m~/anaconda3/lib/python3.7/site-packages/scipy/optimize/nonlin.py\u001b[0m in \u001b[0;36mphi\u001b[0;34m(s, store)\u001b[0m\n\u001b[1;32m    382\u001b[0m             \u001b[0;32mreturn\u001b[0m \u001b[0mtmp_phi\u001b[0m\u001b[0;34m[\u001b[0m\u001b[0;36m0\u001b[0m\u001b[0;34m]\u001b[0m\u001b[0;34m\u001b[0m\u001b[0;34m\u001b[0m\u001b[0m\n\u001b[1;32m    383\u001b[0m         \u001b[0mxt\u001b[0m \u001b[0;34m=\u001b[0m \u001b[0mx\u001b[0m \u001b[0;34m+\u001b[0m \u001b[0ms\u001b[0m\u001b[0;34m*\u001b[0m\u001b[0mdx\u001b[0m\u001b[0;34m\u001b[0m\u001b[0;34m\u001b[0m\u001b[0m\n\u001b[0;32m--> 384\u001b[0;31m         \u001b[0mv\u001b[0m \u001b[0;34m=\u001b[0m \u001b[0mfunc\u001b[0m\u001b[0;34m(\u001b[0m\u001b[0mxt\u001b[0m\u001b[0;34m)\u001b[0m\u001b[0;34m\u001b[0m\u001b[0;34m\u001b[0m\u001b[0m\n\u001b[0m\u001b[1;32m    385\u001b[0m         \u001b[0mp\u001b[0m \u001b[0;34m=\u001b[0m \u001b[0m_safe_norm\u001b[0m\u001b[0;34m(\u001b[0m\u001b[0mv\u001b[0m\u001b[0;34m)\u001b[0m\u001b[0;34m**\u001b[0m\u001b[0;36m2\u001b[0m\u001b[0;34m\u001b[0m\u001b[0;34m\u001b[0m\u001b[0m\n\u001b[1;32m    386\u001b[0m         \u001b[0;32mif\u001b[0m \u001b[0mstore\u001b[0m\u001b[0;34m:\u001b[0m\u001b[0;34m\u001b[0m\u001b[0;34m\u001b[0m\u001b[0m\n",
      "\u001b[0;32m~/anaconda3/lib/python3.7/site-packages/scipy/optimize/nonlin.py\u001b[0m in \u001b[0;36m<lambda>\u001b[0;34m(z)\u001b[0m\n\u001b[1;32m    273\u001b[0m \u001b[0;34m\u001b[0m\u001b[0m\n\u001b[1;32m    274\u001b[0m     \u001b[0mx0\u001b[0m \u001b[0;34m=\u001b[0m \u001b[0m_as_inexact\u001b[0m\u001b[0;34m(\u001b[0m\u001b[0mx0\u001b[0m\u001b[0;34m)\u001b[0m\u001b[0;34m\u001b[0m\u001b[0;34m\u001b[0m\u001b[0m\n\u001b[0;32m--> 275\u001b[0;31m     \u001b[0mfunc\u001b[0m \u001b[0;34m=\u001b[0m \u001b[0;32mlambda\u001b[0m \u001b[0mz\u001b[0m\u001b[0;34m:\u001b[0m \u001b[0m_as_inexact\u001b[0m\u001b[0;34m(\u001b[0m\u001b[0mF\u001b[0m\u001b[0;34m(\u001b[0m\u001b[0m_array_like\u001b[0m\u001b[0;34m(\u001b[0m\u001b[0mz\u001b[0m\u001b[0;34m,\u001b[0m \u001b[0mx0\u001b[0m\u001b[0;34m)\u001b[0m\u001b[0;34m)\u001b[0m\u001b[0;34m)\u001b[0m\u001b[0;34m.\u001b[0m\u001b[0mflatten\u001b[0m\u001b[0;34m(\u001b[0m\u001b[0;34m)\u001b[0m\u001b[0;34m\u001b[0m\u001b[0;34m\u001b[0m\u001b[0m\n\u001b[0m\u001b[1;32m    276\u001b[0m     \u001b[0mx\u001b[0m \u001b[0;34m=\u001b[0m \u001b[0mx0\u001b[0m\u001b[0;34m.\u001b[0m\u001b[0mflatten\u001b[0m\u001b[0;34m(\u001b[0m\u001b[0;34m)\u001b[0m\u001b[0;34m\u001b[0m\u001b[0;34m\u001b[0m\u001b[0m\n\u001b[1;32m    277\u001b[0m \u001b[0;34m\u001b[0m\u001b[0m\n",
      "\u001b[0;32m<ipython-input-8-8598ff73b6da>\u001b[0m in \u001b[0;36mself_consistency2\u001b[0;34m(ns)\u001b[0m\n\u001b[1;32m      4\u001b[0m \u001b[0;34m\u001b[0m\u001b[0m\n\u001b[1;32m      5\u001b[0m         \u001b[0mvals_up\u001b[0m\u001b[0;34m,\u001b[0m\u001b[0mvects_up\u001b[0m \u001b[0;34m=\u001b[0m \u001b[0mmake_spectr\u001b[0m\u001b[0;34m(\u001b[0m\u001b[0mU\u001b[0m\u001b[0;34m,\u001b[0m\u001b[0mn1_do\u001b[0m\u001b[0;34m,\u001b[0m\u001b[0mn2_do\u001b[0m\u001b[0;34m)\u001b[0m\u001b[0;34m\u001b[0m\u001b[0;34m\u001b[0m\u001b[0m\n\u001b[0;32m----> 6\u001b[0;31m         \u001b[0mvals_do\u001b[0m\u001b[0;34m,\u001b[0m\u001b[0mvects_do\u001b[0m \u001b[0;34m=\u001b[0m \u001b[0mmake_spectr\u001b[0m\u001b[0;34m(\u001b[0m\u001b[0mU\u001b[0m\u001b[0;34m,\u001b[0m\u001b[0mn1_up\u001b[0m\u001b[0;34m,\u001b[0m\u001b[0mn2_up\u001b[0m\u001b[0;34m)\u001b[0m\u001b[0;34m\u001b[0m\u001b[0;34m\u001b[0m\u001b[0m\n\u001b[0m\u001b[1;32m      7\u001b[0m \u001b[0;34m\u001b[0m\u001b[0m\n\u001b[1;32m      8\u001b[0m         \u001b[0;31m# FIX THE STUF DOWN FROM HERE\u001b[0m\u001b[0;34m\u001b[0m\u001b[0;34m\u001b[0m\u001b[0;34m\u001b[0m\u001b[0m\n",
      "\u001b[0;32m<ipython-input-3-b3a42d0c60db>\u001b[0m in \u001b[0;36mmake_spectr\u001b[0;34m(U, n1, n2)\u001b[0m\n\u001b[1;32m      4\u001b[0m     \u001b[0mHk\u001b[0m\u001b[0;34m[\u001b[0m\u001b[0;34m:\u001b[0m\u001b[0;34m,\u001b[0m\u001b[0;36m0\u001b[0m\u001b[0;34m,\u001b[0m\u001b[0;36m0\u001b[0m\u001b[0;34m]\u001b[0m \u001b[0;34m=\u001b[0m \u001b[0mU\u001b[0m\u001b[0;34m*\u001b[0m\u001b[0mn1\u001b[0m\u001b[0;34m\u001b[0m\u001b[0;34m\u001b[0m\u001b[0m\n\u001b[1;32m      5\u001b[0m     \u001b[0mHk\u001b[0m\u001b[0;34m[\u001b[0m\u001b[0;34m:\u001b[0m\u001b[0;34m,\u001b[0m\u001b[0;36m1\u001b[0m\u001b[0;34m,\u001b[0m\u001b[0;36m1\u001b[0m\u001b[0;34m]\u001b[0m \u001b[0;34m=\u001b[0m \u001b[0mU\u001b[0m\u001b[0;34m*\u001b[0m\u001b[0mn2\u001b[0m\u001b[0;34m\u001b[0m\u001b[0;34m\u001b[0m\u001b[0m\n\u001b[0;32m----> 6\u001b[0;31m     \u001b[0;32mreturn\u001b[0m \u001b[0meigh\u001b[0m\u001b[0;34m(\u001b[0m\u001b[0mHk\u001b[0m\u001b[0;34m)\u001b[0m\u001b[0;34m\u001b[0m\u001b[0;34m\u001b[0m\u001b[0m\n\u001b[0m",
      "\u001b[0;32m<__array_function__ internals>\u001b[0m in \u001b[0;36meigh\u001b[0;34m(*args, **kwargs)\u001b[0m\n",
      "\u001b[0;32m~/anaconda3/lib/python3.7/site-packages/numpy/linalg/linalg.py\u001b[0m in \u001b[0;36meigh\u001b[0;34m(a, UPLO)\u001b[0m\n\u001b[1;32m   1444\u001b[0m \u001b[0;34m\u001b[0m\u001b[0m\n\u001b[1;32m   1445\u001b[0m     \u001b[0msignature\u001b[0m \u001b[0;34m=\u001b[0m \u001b[0;34m'D->dD'\u001b[0m \u001b[0;32mif\u001b[0m \u001b[0misComplexType\u001b[0m\u001b[0;34m(\u001b[0m\u001b[0mt\u001b[0m\u001b[0;34m)\u001b[0m \u001b[0;32melse\u001b[0m \u001b[0;34m'd->dd'\u001b[0m\u001b[0;34m\u001b[0m\u001b[0;34m\u001b[0m\u001b[0m\n\u001b[0;32m-> 1446\u001b[0;31m     \u001b[0mw\u001b[0m\u001b[0;34m,\u001b[0m \u001b[0mvt\u001b[0m \u001b[0;34m=\u001b[0m \u001b[0mgufunc\u001b[0m\u001b[0;34m(\u001b[0m\u001b[0ma\u001b[0m\u001b[0;34m,\u001b[0m \u001b[0msignature\u001b[0m\u001b[0;34m=\u001b[0m\u001b[0msignature\u001b[0m\u001b[0;34m,\u001b[0m \u001b[0mextobj\u001b[0m\u001b[0;34m=\u001b[0m\u001b[0mextobj\u001b[0m\u001b[0;34m)\u001b[0m\u001b[0;34m\u001b[0m\u001b[0;34m\u001b[0m\u001b[0m\n\u001b[0m\u001b[1;32m   1447\u001b[0m     \u001b[0mw\u001b[0m \u001b[0;34m=\u001b[0m \u001b[0mw\u001b[0m\u001b[0;34m.\u001b[0m\u001b[0mastype\u001b[0m\u001b[0;34m(\u001b[0m\u001b[0m_realType\u001b[0m\u001b[0;34m(\u001b[0m\u001b[0mresult_t\u001b[0m\u001b[0;34m)\u001b[0m\u001b[0;34m,\u001b[0m \u001b[0mcopy\u001b[0m\u001b[0;34m=\u001b[0m\u001b[0;32mFalse\u001b[0m\u001b[0;34m)\u001b[0m\u001b[0;34m\u001b[0m\u001b[0;34m\u001b[0m\u001b[0m\n\u001b[1;32m   1448\u001b[0m     \u001b[0mvt\u001b[0m \u001b[0;34m=\u001b[0m \u001b[0mvt\u001b[0m\u001b[0;34m.\u001b[0m\u001b[0mastype\u001b[0m\u001b[0;34m(\u001b[0m\u001b[0mresult_t\u001b[0m\u001b[0;34m,\u001b[0m \u001b[0mcopy\u001b[0m\u001b[0;34m=\u001b[0m\u001b[0;32mFalse\u001b[0m\u001b[0;34m)\u001b[0m\u001b[0;34m\u001b[0m\u001b[0;34m\u001b[0m\u001b[0m\n",
      "\u001b[0;31mKeyboardInterrupt\u001b[0m: "
     ]
    },
    {
     "data": {
      "image/png": "[encoded data removed]",
      "text/plain": [
       "<Figure size 432x288 with 1 Axes>"
      ]
     },
     "metadata": {
      "needs_background": "light"
     },
     "output_type": "display_data"
    }
   ],
   "source": [
    "n1_up = (ne/4) + delta #occupation on site 1\n",
    "n1_do = (ne/4) - delta\n",
    "n2_up = (ne/4) + delta\n",
    "n2_do = (ne/4) - delta\n",
    "optimize.root(self_consistency2, x0=[n1_up,n2_up, n1_do,n2_do ],method='broyden1',options={'disp':True})"
   ]
  },
  {
   "cell_type": "code",
   "execution_count": 9,
   "metadata": {},
   "outputs": [],
   "source": [
    "# n1_up = (ne/4) + delta # intial values of occupation on sites\n",
    "# n1_do = (ne/4) - delta\n",
    "# n2_up = (ne/4) + delta\n",
    "# n2_do = (ne/4) - delta\n",
    "# discrepancy = 10\n",
    "# while discrepancy >= 10**-5:  # while loop to find the self consistant ocuupation numbers\n",
    "    \n",
    "#     n1_do_new ,n2_do_new, n1_up_new, n2_up_new  = self_consistency(n1_do,n2_do,n1_up,n2_up)\n",
    "    \n",
    "#     discrepancy = sqrt((n1_up_new-n1_up)**2+\n",
    "#                            (n2_up_new-n2_up)**2+\n",
    "#                            (n1_do_new-n1_do)**2+\n",
    "#                            (n2_do_new-n2_do)**2)\n",
    "#     n1_up,n2_up, n1_do,n2_do = n1_up_new,n2_up_new ,n1_do_new,n2_do_new\n",
    "#     print(discrepancy)\n",
    "\n",
    "\n",
    "    \n",
    "    \n",
    "    "
   ]
  },
  {
   "cell_type": "code",
   "execution_count": null,
   "metadata": {},
   "outputs": [],
   "source": [
    "n1_up = (ne/4) + delta #occupation on site 1\n",
    "n1_do = (ne/4) - delta\n",
    "n2_up = (ne/4) + delta\n",
    "n2_do = (ne/4) - delta\n",
    "\n",
    "optimize.fixed_point(self_consistency2,[n1_up,n2_up, n1_do,n2_do ],maxiter = 1000)   # another method using fixed point function to find the self consistant solution\n"
   ]
  },
  {
   "cell_type": "code",
   "execution_count": 14,
   "metadata": {},
   "outputs": [],
   "source": [
    "# def total_energy (U,ne):  # i'm a bit confused on how to find the total energy\n",
    "#     discrepancy = 10\n",
    "\n",
    "#     n1_up,n2_up = ne/4+delta,ne/4-delta\n",
    "#     #n1_do,n2_do = ne/2-delta,ne/2+delta #AFM\n",
    "#     n1_do,n2_do = ne/4+delta,ne/4-delta  #FM\n",
    "#     vals_up, vects_up, vals_do, vects_do = self_consistency(U,n1_do,n2_do,n1_up,n2_up)\n",
    "\n",
    "#     return(total_energy)"
   ]
  },
  {
   "cell_type": "code",
   "execution_count": 17,
   "metadata": {},
   "outputs": [],
   "source": [
    "#class HubbardModel():\n",
    "    \n",
    " #   def __init__(self,on_site_energy,coulomb_repulsion,number_of_electrons_per_unit_cell):\n",
    "        \n",
    "  #      self.on_site_energy=on_site_energy\n",
    "   #     self.coulomb_repulsion=coulomb_repulsion\n",
    "    #    self.number_of_electrons_per_unit_cell\n",
    "    "
   ]
  },
  {
   "cell_type": "code",
   "execution_count": null,
   "metadata": {},
   "outputs": [],
   "source": [
    "n1up_new = (sum(abs(vecs_up[:,0,0])**2*fFD(vals_up[:,0]-mu,kbt))\n",
    "               +sum(abs(vecs_up[:,0,1])**2*fFD(vals_up[:,1]-mu,kbt)))/nk**2"
   ]
  }
 ],
 "metadata": {
  "kernelspec": {
   "display_name": "Python 3",
   "language": "python",
   "name": "python3"
  },
  "language_info": {
   "codemirror_mode": {
    "name": "ipython",
    "version": 3
   },
   "file_extension": ".py",
   "mimetype": "text/x-python",
   "name": "python",
   "nbconvert_exporter": "python",
   "pygments_lexer": "ipython3",
   "version": "3.7.6"
  }
 },
 "nbformat": 4,
 "nbformat_minor": 4
}
