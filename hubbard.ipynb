{
 "cells": [
  {
   "cell_type": "code",
   "execution_count": 1,
   "metadata": {},
   "outputs": [
    {
     "name": "stdout",
     "output_type": "stream",
     "text": [
      "Populating the interactive namespace from numpy and matplotlib\n"
     ]
    }
   ],
   "source": [
    "%pylab inline\n",
    "from scipy.interpolate import interp1d\n",
    "import scipy as sc"
   ]
  },
  {
   "cell_type": "code",
   "execution_count": 2,
   "metadata": {},
   "outputs": [],
   "source": [
    "e = 1  # onsite energy\n",
    "t = 1 # hopping\n",
    "U = 1 # coulob repulsion\n",
    "ne = 1.4 # number of electrons per unit cell/ occupation number\n",
    "T = 1 # tempreture\n",
    "n1 = 1 #occupation on site 1\n",
    "n2 = 1 #occupation on site 1\n",
    "sigma=0.02\n",
    "delta=0.1"
   ]
  },
  {
   "cell_type": "code",
   "execution_count": 3,
   "metadata": {},
   "outputs": [],
   "source": [
    "# LASZLO:\n",
    "# This is roughly ok but I think we can speed part up with some carefull organization\n",
    "# mainly due to the fact that if we calculate gamma once we can keep it in memory\n",
    "# since that part of the Hamiltonian does not change troughout the whole scf procedure\n",
    "# also we could get rid of for loops.. \n",
    "\n",
    "def hamiltonian(U,n1,n2,kxran=linspace(-pi,pi,200,endpoint=False),\n",
    "                        kyran=linspace(-pi,pi,200,endpoint=False)):\n",
    "    eigenval=[]\n",
    "    eigenvec=[]\n",
    "    for kx in kxran:\n",
    "        for ky in kyran:\n",
    "            gamma = 1+exp(-1j*2*kx)+exp(-1j*(kx+ky))+exp(-1j*(kx-ky))\n",
    "            H = array([[U*n1           ,-1*gamma],\n",
    "                       [-1*conj(gamma),U*n2     ]])\n",
    "            w,v =eigh(H)\n",
    "            eigenval.append(w)\n",
    "            eigenvec.append(v)\n",
    "    return array(eigenval),array(eigenvec)"
   ]
  },
  {
   "cell_type": "code",
   "execution_count": 4,
   "metadata": {},
   "outputs": [],
   "source": [
    "# LASZLO:\n",
    "# This seems ok at the moent, but this might not scale well in terms of numer of k-point..\n",
    "# We should revisit this later on..\n",
    "def densty(E,sigma=0.02):\n",
    "    return sum(1/(sigma*sqrt(2*pi))*exp(-((E-hamiltonian(U,n1,n2)[0].flatten())/sigma)**2/2))"
   ]
  },
  {
   "cell_type": "code",
   "execution_count": 5,
   "metadata": {},
   "outputs": [],
   "source": [
    "# LASZLO:\n",
    "# again this is good for the moment.. but we might need to readjust it depending on how the scf cycle converges..\n",
    "def get_chemical_pot(ne): # ne: number of electrons per unit cell\n",
    "    NE,eran,_=hist(hamiltonian(U,n1,n2)[0].flatten(),linspace(-6,6,200),cumulative=True,density=True)\n",
    "    mu= interp1d(NE,eran[:-1])\n",
    "    return mu(ne)"
   ]
  },
  {
   "cell_type": "code",
   "execution_count": 6,
   "metadata": {},
   "outputs": [],
   "source": [
    "# LASZLO:\n",
    "# I think we hawe written this together\n",
    "def num_of_electron_MKII(mu,site,kbt=0.01,use_Fermi=False):\n",
    "    if use_Fermi:\n",
    "        avg_num_of_elec = (\\\n",
    "        sum(abs(vects[:,site,0])**2*fermi(vals[:,0]-mu,kbt=kbt))+\\\n",
    "        sum(abs(vects[:,site,1])**2*fermi(vals[:,1]-mu,kbt=kbt)))/num_of_eigen_val\n",
    "    else:\n",
    "        avg_num_of_elec = \\\n",
    "        (sum(abs(vects[vals[:,0]<mu,site,0])**2)+\\\n",
    "         sum(abs(vects[vals[:,1]<mu,site,1])**2))/num_of_eigen_val # len hamiltonian 0]\n",
    "    return avg_num_of_elec"
   ]
  },
  {
   "cell_type": "code",
   "execution_count": 7,
   "metadata": {},
   "outputs": [],
   "source": [
    "h= hamiltonian(U,n1,n2)"
   ]
  },
  {
   "cell_type": "code",
   "execution_count": 8,
   "metadata": {},
   "outputs": [
    {
     "data": {
      "text/plain": [
       "array([[-3.        ,  5.        ],\n",
       "       [-2.99901312,  4.99901312],\n",
       "       [-2.99605346,  4.99605346],\n",
       "       ...,\n",
       "       [-2.99013705,  4.99013705],\n",
       "       [-2.99506658,  4.99506658],\n",
       "       [-2.99802624,  4.99802624]])"
      ]
     },
     "execution_count": 8,
     "metadata": {},
     "output_type": "execute_result"
    }
   ],
   "source": [
    "h[0]"
   ]
  },
  {
   "cell_type": "code",
   "execution_count": 4,
   "metadata": {},
   "outputs": [],
   "source": [
    "def gg (U,ne):\n",
    "    discrepancy = 10\n",
    "\n",
    "    n1_up,n2_up = ne/4+delta,ne/4-delta\n",
    "    #n1_do,n2_do = ne/2-delta,ne/2+delta #AFM\n",
    "    n1_do,n2_do = ne/4+delta,ne/4-delta  #FM\n",
    "    while discrepancy >= 10**-5:\n",
    "\n",
    "        vals_up,vects_up = hamiltonian(U,n1_do,n2_do)\n",
    "        vals_do,vects_do = hamiltonian(U,n1_up,n2_up)\n",
    "        \n",
    "        # FIX THE STUF DOWN FROM HERE\n",
    "        num_of_eigen_val = len(vals_up)\n",
    "        # LASZLO this is not good!\n",
    "        # There is a single chemical potential in the system, \n",
    "        # NE_up,eran_up,_= hist(vals_up.flatten(),linspace(-6,6,200),cumulative=True,density=True)\n",
    "        # mu_up = interp1d(NE_up,eran_up[:-1],fill_value=\"extrapolate\")\n",
    "        \n",
    "        # NE_do,eran_do,_= hist(vals_do.flatten(),linspace(-6,6,200),cumulative=True,density=True)\n",
    "        # mu_do = interp1d(NE_do,eran_up[:-1],fill_value=\"extrapolate\")\n",
    "        # you have to do something along the line \n",
    "        NE,eran,_= hist(array([vals_up,vals_do]).flatten(),linspace(-6,6,200),cumulative=True,density=True)\n",
    "        mu = interp1d(NE,eran[:-1],fill_value=\"extrapolate\") # We need \n",
    "        # Here we only need mu\n",
    "        n1_do_new = sum(abs(vects_do[vals_do[:,0]<mu(ne),0,0])**2)/num_of_eigen_val \n",
    "        n2_do_new = sum(abs(vects_do[vals_do[:,1]<mu(ne),1,1])**2)/num_of_eigen_val \n",
    "        n1_up_new = sum(abs(vects_up[vals_up[:,1]<mu(ne),0,1])**2)/num_of_eigen_val\n",
    "        n2_up_new = sum(abs(vects_up[vals_up[:,1]<mu(ne),1,0])**2)/num_of_eigen_val\n",
    "\n",
    "        # LASZLO\n",
    "        # All the above stuff inside the while loop should be packaged into a separate function!\n",
    "        #\n",
    "\n",
    "        \n",
    "        n1_up,n2_up = n1_up_new,n2_up_new\n",
    "        n1_do,n2_do = n1_do_new,n2_do_new\n",
    "\n",
    "        \n",
    "        # LASZLO\n",
    "        # we need to see if this is a good measure for disrepancy\n",
    "        # there might be some other measures\n",
    "        discrepancy = sqrt((n1_up_new-n1_up)**2+\n",
    "                           (n2_up_new-n2_up)**2+\n",
    "                           (n1_do_new-n1_do)**2+\n",
    "                           (n2_do_new-n2_do)**2 )\n",
    "        \n",
    "    # This is not the energy we should calculate! \n",
    "    # why are here 4 contributions ?\n",
    "    E1_up = sum(vals_up[:,0])\n",
    "    E2_up = sum(vals_up[:,1])\n",
    "    E1_do = sum(vals_do[:,0])\n",
    "    E2_do = sum(vals_do[:,1])\n",
    "    return(E1_up,E2_up,E1_do,E2_do)"
   ]
  },
  {
   "cell_type": "code",
   "execution_count": 10,
   "metadata": {},
   "outputs": [],
   "source": [
    "#class HubbardModel():\n",
    "    \n",
    " #   def __init__(self,on_site_energy,coulomb_repulsion,number_of_electrons_per_unit_cell):\n",
    "        \n",
    "  #      self.on_site_energy=on_site_energy\n",
    "   #     self.coulomb_repulsion=coulomb_repulsion\n",
    "    #    self.number_of_electrons_per_unit_cell\n",
    "    "
   ]
  },
  {
   "cell_type": "code",
   "execution_count": 11,
   "metadata": {},
   "outputs": [
    {
     "name": "stderr",
     "output_type": "stream",
     "text": [
      "/home/oroszll1/miniconda3/lib/python3.7/site-packages/scipy/interpolate/interpolate.py:609: RuntimeWarning: divide by zero encountered in true_divide\n",
      "  slope = (y_hi - y_lo) / (x_hi - x_lo)[:, None]\n"
     ]
    },
    {
     "data": {
      "text/plain": [
       "(-49246.192892237275,\n",
       " 81246.19289223728,\n",
       " -49246.192892237275,\n",
       " 81246.19289223728)"
      ]
     },
     "execution_count": 11,
     "metadata": {},
     "output_type": "execute_result"
    },
    {
     "data": {
      "image/png": "[encoded data removed]",
      "text/plain": [
       "<Figure size 432x288 with 1 Axes>"
      ]
     },
     "metadata": {
      "needs_background": "light"
     },
     "output_type": "display_data"
    }
   ],
   "source": [
    "gg(1,1.6)"
   ]
  },
  {
   "cell_type": "code",
   "execution_count": null,
   "metadata": {},
   "outputs": [],
   "source": []
  }
 ],
 "metadata": {
  "kernelspec": {
   "display_name": "Python 3",
   "language": "python",
   "name": "python3"
  },
  "language_info": {
   "codemirror_mode": {
    "name": "ipython",
    "version": 3
   },
   "file_extension": ".py",
   "mimetype": "text/x-python",
   "name": "python",
   "nbconvert_exporter": "python",
   "pygments_lexer": "ipython3",
   "version": "3.7.3"
  }
 },
 "nbformat": 4,
 "nbformat_minor": 4
}
