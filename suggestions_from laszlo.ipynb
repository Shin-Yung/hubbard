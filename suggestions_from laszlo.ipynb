{
 "cells": [
  {
   "cell_type": "code",
   "execution_count": 1,
   "metadata": {},
   "outputs": [
    {
     "name": "stdout",
     "output_type": "stream",
     "text": [
      "Populating the interactive namespace from numpy and matplotlib\n"
     ]
    }
   ],
   "source": [
    "%pylab inline\n",
    "from scipy import interpolate\n",
    "from scipy import optimize\n"
   ]
  },
  {
   "cell_type": "code",
   "execution_count": 2,
   "metadata": {},
   "outputs": [],
   "source": [
    "# The occupation number independent part of the Hamiltonina\n",
    "nk = 200\n",
    "kran = linspace(-pi,pi,nk,endpoint=False)\n",
    "kx,ky = meshgrid(kran,kran)\n",
    "kx = kx.flatten()\n",
    "ky = ky.flatten()\n",
    "gamma = -(1+exp(-1j*2*kx)+exp(-1j*(kx-ky))+exp(-1j*(kx+ky)))\n",
    "H0k = zeros((len(gamma),2,2),dtype=complex)\n",
    "H0k[:,0,1] = gamma\n",
    "H0k[:,1,0] = conj(gamma)"
   ]
  },
  {
   "cell_type": "code",
   "execution_count": 3,
   "metadata": {},
   "outputs": [],
   "source": [
    "# this generates eigen values and eigen vectors and returns them \n",
    "def make_spectr(U,n1,n2):\n",
    "    Hk = H0k.copy()\n",
    "    Hk[:,0,0] = U*n1\n",
    "    Hk[:,1,1] = U*n20\n",
    "    return eigh(Hk)"
   ]
  }
 ],
 "metadata": {
  "kernelspec": {
   "display_name": "Python 3",
   "language": "python",
   "name": "python3"
  },
  "language_info": {
   "codemirror_mode": {
    "name": "ipython",
    "version": 3
   },
   "file_extension": ".py",
   "mimetype": "text/x-python",
   "name": "python",
   "nbconvert_exporter": "python",
   "pygments_lexer": "ipython3",
   "version": "3.7.3"
  }
 },
 "nbformat": 4,
 "nbformat_minor": 4
}
