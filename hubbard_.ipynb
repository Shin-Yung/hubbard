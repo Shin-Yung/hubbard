{
 "cells": [
  {
   "cell_type": "code",
   "execution_count": 1,
   "metadata": {},
   "outputs": [
    {
     "name": "stdout",
     "output_type": "stream",
     "text": [
      "Populating the interactive namespace from numpy and matplotlib\n"
     ]
    }
   ],
   "source": [
    "%pylab inline\n",
    "from scipy import interpolate\n",
    "from scipy import optimize"
   ]
  },
  {
   "cell_type": "code",
   "execution_count": 2,
   "metadata": {},
   "outputs": [],
   "source": [
    "#U = 0 # coulob repulsion\n",
    "#ne = 1.6 # number of electrons per unit cell/ occupation number\n",
    "# The occupation number independent part of the Hamiltonina\n",
    "nk = 200\n",
    "kran = linspace(-pi,pi,nk,endpoint=False)\n",
    "kx,ky = meshgrid(kran,kran)\n",
    "kx = kx.flatten()\n",
    "ky = ky.flatten()\n",
    "gamma = -(1+exp(-1j*2*kx)+exp(-1j*(kx-ky))+exp(-1j*(kx+ky)))\n",
    "H0k = zeros((len(gamma),2,2),dtype=complex)\n"
   ]
  },
  {
   "cell_type": "code",
   "execution_count": 3,
   "metadata": {},
   "outputs": [],
   "source": [
    "# this generates eigen values and eigen vectors and returns them \n",
    "def make_spectr(U,n1,n2):\n",
    "    Hk = H0k.copy()\n",
    "    Hk[:,0,0] = U*n1\n",
    "    Hk[:,1,1] = U*n2\n",
    "    return eigh(Hk)\n",
    "\n",
    "def FD(Energy,kbt):\n",
    "    return 1/(1+exp(Energy/kbt))\n"
   ]
  },
  {
   "cell_type": "code",
   "execution_count": 4,
   "metadata": {},
   "outputs": [],
   "source": [
    "# a function that would find the new occupation number for each site, it needs to be run in a self consistency loop, this vergion can be used with fixed point f'n     \n",
    "def self_consistency2(ns,U,ne,kbt):  # (U,ns,ne)\n",
    "        n1_do,n2_do,n1_up,n2_up = ns  \n",
    "\n",
    "        vals_up,vects_up = make_spectr(U,n1_do,n2_do)\n",
    "        vals_do,vects_do = make_spectr(U,n1_up,n2_up)\n",
    "        num_of_k_points = len(vals_up)\n",
    "\n",
    "        \n",
    "        #########################################################################\n",
    "        # get new spectrum and wavefunctions\n",
    "        # vals_up[ik,i] the i-th eigenvalue of up electrons at the ik-th k point\n",
    "        # vecs_up[ik,site,i] the i-th wavefunction of up electrons at the ik-th k point evaluated at site \"site\".\n",
    " \n",
    "        \n",
    "        rho,eran = histogram(array([vals_up,vals_do]).flatten(),1000,density=True)\n",
    "        rho = convolve(rho,hamming(10),mode='same')/5 # some additional smoothing\n",
    "        NE = cumsum(rho)*diff(eran)[0]\n",
    "        mu = interpolate.interp1d(NE*4,eran[:-1],fill_value=\"extrapolate\")\n",
    "        \n",
    "\n",
    "        \n",
    "        \n",
    "        n1_do_new = (sum(abs(vects_do[:, 0, 0])**2*FD(vals_do[:,0]-mu(ne),kbt))+\n",
    "                    sum(abs(vects_do[:, 0, 1])**2*FD(vals_do[:,1]-mu(ne),kbt)))/num_of_k_points\n",
    "                                                                                                                            #i should find fermi function of energy - mu\n",
    "        n2_do_new = (sum(abs(vects_do[:, 1, 0])**2*FD(vals_do[:,0]-mu(ne),kbt))+\n",
    "                    sum(abs(vects_do[:, 1, 1])**2*FD(vals_do[:,1]-mu(ne),kbt)))/num_of_k_points\n",
    "        \n",
    "        n1_up_new = (sum(abs(vects_up[:, 0, 0])**2*FD(vals_up[:,0]-mu(ne),kbt))+\n",
    "                    sum(abs(vects_up[:, 0, 1])**2*FD(vals_up[:,1]-mu(ne),kbt)))/num_of_k_points\n",
    "        \n",
    "        n2_up_new =  (sum(abs(vects_up[:, 1, 0])**2*FD(vals_up[:,0]-mu(ne),kbt))+\n",
    "                    sum(abs(vects_up[:, 1, 1])**2*FD(vals_up[:,1]-mu(ne),kbt)))/num_of_k_points\n",
    "        \n",
    "        if ((n1_up > n1_do) and (n1_up_new < n1_do_new)):\n",
    "            n1_up_new = n1_do_new\n",
    "        if ((n2_up > n2_do) and (n2_up_new < n2_do_new)):\n",
    "            n2_up_new = n2_do_new\n",
    "        if ((n1_do > n1_up) and (n1_do_new < n1_up_new)):\n",
    "            n1_do_new = n1_up_new\n",
    "        if ((n2_do > n2_up) and (n2_do_new < n2_up_new)):\n",
    "            n2_do_new = n2_up_new\n",
    "            \n",
    "        \n",
    "        ns_new = array([n1_do_new ,n2_do_new, n1_up_new, n2_up_new])\n",
    "        ns_new = (ns_new * ne)/ sum(ns_new)\n",
    "\n",
    "        # this is a comment\n",
    "       \n",
    "        return ns_new - ns"
   ]
  },
  {
   "cell_type": "code",
   "execution_count": 18,
   "metadata": {},
   "outputs": [],
   "source": [
    "def tot_ener(ns,U,ne,kbt):\n",
    "        n1_do,n2_do,n1_up,n2_up = ns  \n",
    "\n",
    "        vals_up,vects_up = make_spectr(U,n1_do,n2_do)\n",
    "        vals_do,vects_do = make_spectr(U,n1_up,n2_up)\n",
    "        num_of_k_points = len(vals_up)\n",
    "\n",
    "        \n",
    "        #########################################################################\n",
    "        # get new spectrum and wavefunctions\n",
    "        # vals_up[ik,i] the i-th eigenvalue of up electrons at the ik-th k point\n",
    "        # vecs_up[ik,site,i] the i-th wavefunction of up electrons at the ik-th k point evaluated at site \"site\".\n",
    " \n",
    "        \n",
    "        rho,eran = histogram(array([vals_up,vals_do]).flatten(),1000,density=True)\n",
    "        rho = convolve(rho,hamming(10),mode='same')/5 # some additional smoothing\n",
    "        NE = cumsum(rho)*diff(eran)[0]\n",
    "        mu = interpolate.interp1d(NE*4,eran[:-1],fill_value=\"extrapolate\")\n",
    "        \n",
    "        energy = sum(vals_up[:,0]*FD(vals_up[:,0]-mu(ne),kbt)) +\\\n",
    "                 sum(vals_up[:,1]*FD(vals_up[:,1]-mu(ne),kbt)) +\\\n",
    "                 sum(vals_do[:,0]*FD(vals_do[:,0]-mu(ne),kbt)) +\\\n",
    "                 sum(vals_do[:,1]*FD(vals_do[:,1]-mu(ne),kbt)) +\\\n",
    "                 -(U * num_of_k_points*((n1_do*n1_up)+(n2_do*n2_up)))\n",
    "        \n",
    "        return energy"
   ]
  },
  {
   "cell_type": "code",
   "execution_count": 57,
   "metadata": {},
   "outputs": [
    {
     "name": "stdout",
     "output_type": "stream",
     "text": [
      "0:  |F(x)| = 0.0530427; step 1\n",
      "1:  |F(x)| = 0.0132004; step 1\n",
      "2:  |F(x)| = 0.00120169; step 1\n",
      "3:  |F(x)| = 3.47603e-05; step 1\n",
      "4:  |F(x)| = 9.80466e-08; step 1\n",
      "0:  |F(x)| = 0.064119; step 1\n",
      "1:  |F(x)| = 0.0171391; step 1\n",
      "2:  |F(x)| = 0.00183053; step 1\n",
      "3:  |F(x)| = 6.63387e-05; step 1\n",
      "4:  |F(x)| = 2.74963e-07; step 1\n",
      "0:  |F(x)| = 0.0749959; step 1\n",
      "1:  |F(x)| = 0.0205796; step 1\n",
      "2:  |F(x)| = 0.002295; step 1\n",
      "3:  |F(x)| = 8.47302e-05; step 1\n",
      "4:  |F(x)| = 3.6472e-07; step 1\n",
      "0:  |F(x)| = 0.0854502; step 1\n",
      "1:  |F(x)| = 0.0232379; step 1\n",
      "2:  |F(x)| = 0.00246441; step 1\n",
      "3:  |F(x)| = 7.81882e-05; step 1\n",
      "4:  |F(x)| = 2.63296e-07; step 1\n",
      "0:  |F(x)| = 0.0953532; step 1\n",
      "1:  |F(x)| = 0.0249974; step 1\n",
      "2:  |F(x)| = 0.00234696; step 1\n",
      "3:  |F(x)| = 5.6119e-05; step 1\n",
      "4:  |F(x)| = 1.19439e-07; step 1\n",
      "0:  |F(x)| = 0.104643; step 1\n",
      "1:  |F(x)| = 0.0258762; step 1\n",
      "2:  |F(x)| = 0.00203935; step 1\n",
      "3:  |F(x)| = 3.32427e-05; step 1\n",
      "4:  |F(x)| = 3.81681e-08; step 1\n",
      "0:  |F(x)| = 0.113302; step 1\n",
      "1:  |F(x)| = 0.0259783; step 1\n",
      "2:  |F(x)| = 0.00165215; step 1\n",
      "3:  |F(x)| = 1.68851e-05; step 1\n",
      "4:  |F(x)| = 9.18523e-09; step 1\n",
      "0:  |F(x)| = 0.121341; step 1\n",
      "1:  |F(x)| = 0.0254496; step 1\n",
      "2:  |F(x)| = 0.00126714; step 1\n",
      "3:  |F(x)| = 7.45055e-06; step 1\n",
      "4:  |F(x)| = 1.67518e-09; step 1\n",
      "0:  |F(x)| = 0.128788; step 1\n",
      "1:  |F(x)| = 0.0244449; step 1\n",
      "2:  |F(x)| = 0.000929143; step 1\n",
      "3:  |F(x)| = 2.78704e-06; step 1\n",
      "0:  |F(x)| = 0.135678; step 1\n",
      "1:  |F(x)| = 0.0231085; step 1\n",
      "2:  |F(x)| = 0.0006546; step 1\n",
      "3:  |F(x)| = 7.79806e-07; step 1\n",
      "0:  |F(x)| = 0.142052; step 1\n",
      "1:  |F(x)| = 0.0215638; step 1\n",
      "2:  |F(x)| = 0.000443146; step 1\n",
      "3:  |F(x)| = 5.0719e-08; step 1\n",
      "0:  |F(x)| = 0.147951; step 1\n",
      "1:  |F(x)| = 0.01991; step 1\n",
      "2:  |F(x)| = 0.000286567; step 1\n",
      "3:  |F(x)| = 1.39251e-07; step 1\n",
      "0:  |F(x)| = 0.153415; step 1\n",
      "1:  |F(x)| = 0.0182228; step 1\n",
      "2:  |F(x)| = 0.000174238; step 1\n",
      "3:  |F(x)| = 1.37084e-07; step 1\n",
      "0:  |F(x)| = 0.158481; step 1\n",
      "1:  |F(x)| = 0.0165576; step 1\n",
      "2:  |F(x)| = 9.59047e-05; step 1\n",
      "3:  |F(x)| = 8.68356e-08; step 1\n"
     ]
    }
   ],
   "source": [
    "kbt =.01\n",
    "# U = 1/.2\n",
    "ne = 1.6\n",
    "delta=.9\n",
    "n1_up = (ne/4) + delta #occupation on site 1\n",
    "n1_do = (ne/4) - delta\n",
    "n2_up = (ne/4) - delta\n",
    "n2_do = (ne/4) + delta\n",
    "nvals_anti = []\n",
    "for U in (1/arange(.1,.24,.01)):\n",
    "     nvals_anti.append(optimize.root(self_consistency2,[n1_do,n2_do, n1_up,n2_up ], args=(U,ne,kbt),method='broyden2',options={'disp':True}))"
   ]
  },
  {
   "cell_type": "code",
   "execution_count": 58,
   "metadata": {},
   "outputs": [],
   "source": [
    "# for i in range (1,13):\n",
    "#     print(nvals_anti[i].x)"
   ]
  },
  {
   "cell_type": "code",
   "execution_count": 59,
   "metadata": {},
   "outputs": [],
   "source": [
    "# for i in range (1,13):\n",
    "#     print(nvals_anti[i].x)"
   ]
  },
  {
   "cell_type": "code",
   "execution_count": 60,
   "metadata": {},
   "outputs": [],
   "source": [
    "tot_energy = []\n",
    "\n",
    "for U,i in zip((1/arange(.1,.24,.01)), range(0,24)):\n",
    "     tot_energy.append(tot_ener(nvals_anti[i].x,U,ne,kbt))"
   ]
  },
  {
   "cell_type": "code",
   "execution_count": 62,
   "metadata": {},
   "outputs": [
    {
     "data": {
      "text/plain": [
       "[<matplotlib.lines.Line2D at 0x7f765e5d42d0>]"
      ]
     },
     "execution_count": 62,
     "metadata": {},
     "output_type": "execute_result"
    },
    {
     "data": {
      "image/png": "[encoded data removed]",
      "text/plain": [
       "<Figure size 432x288 with 1 Axes>"
      ]
     },
     "metadata": {
      "needs_background": "light"
     },
     "output_type": "display_data"
    }
   ],
   "source": [
    "plot(tot_energy)"
   ]
  },
  {
   "cell_type": "code",
   "execution_count": 63,
   "metadata": {},
   "outputs": [
    {
     "name": "stdout",
     "output_type": "stream",
     "text": [
      "0:  |F(x)| = 0.0530427; step 1\n",
      "1:  |F(x)| = 0.0132004; step 1\n",
      "2:  |F(x)| = 0.00120169; step 1\n",
      "3:  |F(x)| = 3.47603e-05; step 1\n",
      "4:  |F(x)| = 9.80466e-08; step 1\n",
      "0:  |F(x)| = 0.064119; step 1\n",
      "1:  |F(x)| = 0.0171391; step 1\n",
      "2:  |F(x)| = 0.00183053; step 1\n",
      "3:  |F(x)| = 6.63387e-05; step 1\n",
      "4:  |F(x)| = 2.74963e-07; step 1\n",
      "0:  |F(x)| = 0.0749959; step 1\n",
      "1:  |F(x)| = 0.0205796; step 1\n",
      "2:  |F(x)| = 0.002295; step 1\n",
      "3:  |F(x)| = 8.47302e-05; step 1\n",
      "4:  |F(x)| = 3.6472e-07; step 1\n",
      "0:  |F(x)| = 0.0854502; step 1\n",
      "1:  |F(x)| = 0.0232379; step 1\n",
      "2:  |F(x)| = 0.00246441; step 1\n",
      "3:  |F(x)| = 7.81882e-05; step 1\n",
      "4:  |F(x)| = 2.63296e-07; step 1\n",
      "0:  |F(x)| = 0.0953532; step 1\n",
      "1:  |F(x)| = 0.0249974; step 1\n",
      "2:  |F(x)| = 0.00234696; step 1\n",
      "3:  |F(x)| = 5.6119e-05; step 1\n",
      "4:  |F(x)| = 1.19439e-07; step 1\n",
      "0:  |F(x)| = 0.104643; step 1\n",
      "1:  |F(x)| = 0.0258762; step 1\n",
      "2:  |F(x)| = 0.00203935; step 1\n",
      "3:  |F(x)| = 3.32427e-05; step 1\n",
      "4:  |F(x)| = 3.81681e-08; step 1\n",
      "0:  |F(x)| = 0.113302; step 1\n",
      "1:  |F(x)| = 0.0259783; step 1\n",
      "2:  |F(x)| = 0.00165215; step 1\n",
      "3:  |F(x)| = 1.68851e-05; step 1\n",
      "4:  |F(x)| = 9.18523e-09; step 1\n",
      "0:  |F(x)| = 0.121341; step 1\n",
      "1:  |F(x)| = 0.0254496; step 1\n",
      "2:  |F(x)| = 0.00126714; step 1\n",
      "3:  |F(x)| = 7.45055e-06; step 1\n",
      "4:  |F(x)| = 1.67518e-09; step 1\n",
      "0:  |F(x)| = 0.128788; step 1\n",
      "1:  |F(x)| = 0.0244449; step 1\n",
      "2:  |F(x)| = 0.000929143; step 1\n",
      "3:  |F(x)| = 2.78704e-06; step 1\n",
      "0:  |F(x)| = 0.135678; step 1\n",
      "1:  |F(x)| = 0.0231085; step 1\n",
      "2:  |F(x)| = 0.0006546; step 1\n",
      "3:  |F(x)| = 7.79806e-07; step 1\n",
      "0:  |F(x)| = 0.142052; step 1\n",
      "1:  |F(x)| = 0.0215638; step 1\n",
      "2:  |F(x)| = 0.000443146; step 1\n",
      "3:  |F(x)| = 5.0719e-08; step 1\n",
      "0:  |F(x)| = 0.147951; step 1\n",
      "1:  |F(x)| = 0.01991; step 1\n",
      "2:  |F(x)| = 0.000286567; step 1\n",
      "3:  |F(x)| = 1.39251e-07; step 1\n",
      "0:  |F(x)| = 0.153415; step 1\n",
      "1:  |F(x)| = 0.0182228; step 1\n",
      "2:  |F(x)| = 0.000174238; step 1\n",
      "3:  |F(x)| = 1.37084e-07; step 1\n",
      "0:  |F(x)| = 0.158481; step 1\n",
      "1:  |F(x)| = 0.0165576; step 1\n",
      "2:  |F(x)| = 9.59047e-05; step 1\n",
      "3:  |F(x)| = 8.68356e-08; step 1\n"
     ]
    }
   ],
   "source": [
    "kbt =.01\n",
    "# U = 1/.2\n",
    "ne = 1.6\n",
    "delta=.9\n",
    "n1_up = (ne/4) + delta #occupation on site 1\n",
    "n1_do = (ne/4) - delta\n",
    "n2_up = (ne/4) + delta\n",
    "n2_do = (ne/4) - delta\n",
    "nvals_anti = []\n",
    "for U in (1/arange(.1,.24,.01)):\n",
    "     nvals_anti.append(optimize.root(self_consistency2,[n1_do,n2_do, n1_up,n2_up ], args=(U,ne,kbt),method='broyden2',options={'disp':True}))"
   ]
  },
  {
   "cell_type": "code",
   "execution_count": 64,
   "metadata": {},
   "outputs": [],
   "source": [
    "tot_energy2 = []\n",
    "\n",
    "for U,i in zip((1/arange(.1,.24,.01)), range(0,24)):\n",
    "     tot_energy2.append(tot_ener(nvals_anti[i].x,U,ne,kbt))"
   ]
  },
  {
   "cell_type": "code",
   "execution_count": 65,
   "metadata": {},
   "outputs": [
    {
     "data": {
      "text/plain": [
       "[<matplotlib.lines.Line2D at 0x7f765e1b7410>]"
      ]
     },
     "execution_count": 65,
     "metadata": {},
     "output_type": "execute_result"
    },
    {
     "data": {
      "image/png": "[encoded data removed]",
      "text/plain": [
       "<Figure size 432x288 with 1 Axes>"
      ]
     },
     "metadata": {
      "needs_background": "light"
     },
     "output_type": "display_data"
    }
   ],
   "source": [
    "plot(tot_energy2)"
   ]
  },
  {
   "cell_type": "code",
   "execution_count": null,
   "metadata": {},
   "outputs": [],
   "source": []
  }
 ],
 "metadata": {
  "kernelspec": {
   "display_name": "Python 3",
   "language": "python",
   "name": "python3"
  },
  "language_info": {
   "codemirror_mode": {
    "name": "ipython",
    "version": 3
   },
   "file_extension": ".py",
   "mimetype": "text/x-python",
   "name": "python",
   "nbconvert_exporter": "python",
   "pygments_lexer": "ipython3",
   "version": "3.7.6"
  }
 },
 "nbformat": 4,
 "nbformat_minor": 4
}
