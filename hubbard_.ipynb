{
 "cells": [
  {
   "cell_type": "code",
   "execution_count": 3,
   "metadata": {},
   "outputs": [
    {
     "name": "stdout",
     "output_type": "stream",
     "text": [
      "Populating the interactive namespace from numpy and matplotlib\n"
     ]
    }
   ],
   "source": [
    "%pylab inline\n",
    "from scipy import interpolate\n",
    "from scipy import optimize"
   ]
  },
  {
   "cell_type": "code",
   "execution_count": 6,
   "metadata": {},
   "outputs": [],
   "source": [
    "#U = 0 # coulob repulsion\n",
    "#ne = 1.6 # number of electrons per unit cell/ occupation number\n",
    "# The occupation number independent part of the Hamiltonina\n",
    "nk = 200\n",
    "kran = linspace(-pi,pi,nk,endpoint=False)\n",
    "kx,ky = meshgrid(kran,kran)\n",
    "kx = kx.flatten()\n",
    "ky = ky.flatten()\n",
    "gamma = -(1+exp(-1j*2*kx)+exp(-1j*(kx-ky))+exp(-1j*(kx+ky)))\n",
    "H0k = zeros((len(gamma),2,2),dtype=complex)\n"
   ]
  },
  {
   "cell_type": "code",
   "execution_count": 3,
   "metadata": {},
   "outputs": [],
   "source": [
    "# this generates eigen values and eigen vectors and returns them \n",
    "def make_spectr(U,n1,n2):\n",
    "    Hk = H0k.copy()\n",
    "    Hk[:,0,0] = U*n1\n",
    "    Hk[:,1,1] = U*n2\n",
    "    return eigh(Hk)\n",
    "\n",
    "def FD(Energy,kbt):\n",
    "    return 1/(1+exp(Energy/kbt))\n"
   ]
  },
  {
   "cell_type": "code",
   "execution_count": 10,
   "metadata": {},
   "outputs": [],
   "source": [
    "# a function that would find the new occupation number for each site, it needs to be run in a self consistency loop, this vergion can be used with fixed point f'n     \n",
    "def self_consistency2(ns,U,ne,kbt):  # (U,ns,ne)\n",
    "        n1_do,n2_do,n1_up,n2_up = ns  \n",
    "\n",
    "        vals_up,vects_up = make_spectr(U,n1_do,n2_do)\n",
    "        vals_do,vects_do = make_spectr(U,n1_up,n2_up)\n",
    "        num_of_k_points = len(vals_up)\n",
    "\n",
    "        \n",
    "        #########################################################################\n",
    "        # get new spectrum and wavefunctions\n",
    "        # vals_up[ik,i] the i-th eigenvalue of up electrons at the ik-th k point\n",
    "        # vecs_up[ik,site,i] the i-th wavefunction of up electrons at the ik-th k point evaluated at site \"site\".\n",
    " \n",
    "        \n",
    "        rho,eran = histogram(array([vals_up,vals_do]).flatten(),1000,density=True)\n",
    "        rho = convolve(rho,hamming(10),mode='same')/5 # some additional smoothing\n",
    "        NE = cumsum(rho)*diff(eran)[0]\n",
    "        mu = interpolate.interp1d(NE*4,eran[:-1],fill_value=\"extrapolate\")\n",
    "        \n",
    "\n",
    "        \n",
    "        \n",
    "        n1_do_new = (sum(abs(vects_do[:, 0, 0])**2*FD(vals_do[:,0]-mu(ne),kbt))+\n",
    "                    sum(abs(vects_do[:, 0, 1])**2*FD(vals_do[:,1]-mu(ne),kbt)))/num_of_k_points\n",
    "                                                                                                                            #i should find fermi function of energy - mu\n",
    "        n2_do_new = (sum(abs(vects_do[:, 1, 0])**2*FD(vals_do[:,0]-mu(ne),kbt))+\n",
    "                    sum(abs(vects_do[:, 1, 1])**2*FD(vals_do[:,1]-mu(ne),kbt)))/num_of_k_points\n",
    "        \n",
    "        n1_up_new = (sum(abs(vects_up[:, 0, 0])**2*FD(vals_up[:,0]-mu(ne),kbt))+\n",
    "                    sum(abs(vects_up[:, 0, 1])**2*FD(vals_up[:,1]-mu(ne),kbt)))/num_of_k_points\n",
    "        \n",
    "        n2_up_new =  (sum(abs(vects_up[:, 1, 0])**2*FD(vals_up[:,0]-mu(ne),kbt))+\n",
    "                    sum(abs(vects_up[:, 1, 1])**2*FD(vals_up[:,1]-mu(ne),kbt)))/num_of_k_points\n",
    "        \n",
    "        if ((n1_up > n1_do) and (n1_up_new < n1_do_new)):\n",
    "            n1_up_new = n1_do_new\n",
    "        if ((n2_up > n2_do) and (n2_up_new < n2_do_new)):\n",
    "            n2_up_new = n2_do_new\n",
    "        if ((n1_do > n1_up) and (n1_do_new < n1_up_new)):\n",
    "            n1_do_new = n1_up_new\n",
    "        if ((n2_do > n2_up) and (n2_do_new < n2_up_new)):\n",
    "            n2_do_new = n2_up_new\n",
    "            \n",
    "        \n",
    "        ns_new = array([n1_do_new ,n2_do_new, n1_up_new, n2_up_new])\n",
    "        ns_new = (ns_new * ne)/ sum(ns_new)\n",
    "\n",
    "        # this is a comment\n",
    "       \n",
    "        return ns_new - ns"
   ]
  },
  {
   "cell_type": "code",
   "execution_count": 1,
   "metadata": {},
   "outputs": [],
   "source": [
    "kbt =.01\n",
    "# U = 1/.2\n",
    "ne = 1.6\n",
    "delta=.9\n",
    "n1_up = (ne/4) + delta #occupation on site 1\n",
    "n1_do = (ne/4) - delta\n",
    "n2_up = (ne/4) - delta\n",
    "n2_do = (ne/4) + delta\n",
    "nvals_anti = []\n",
    "for U in (1/arange(.1,.24,.01)):\n",
    "     nvals_anti.append(optimize.root(self_consistency2,[n1_do,n2_do, n1_up,n2_up ], args=(U,ne,kbt),method='broyden2',options={'disp':True}))"
   ]
  },
  {
   "cell_type": "code",
   "execution_count": 29,
   "metadata": {},
   "outputs": [],
   "source": [
    "# U=.1\n",
    "# optimize.root(self_consistency2,[n1_do,n2_do, n1_up,n2_up ], args=(U,ne,kbt),method='broyden2',options={'disp':True})"
   ]
  },
  {
   "cell_type": "code",
   "execution_count": 2,
   "metadata": {},
   "outputs": [
    {
     "ename": "NameError",
     "evalue": "name 'nvals_anti' is not defined",
     "output_type": "error",
     "traceback": [
      "\u001b[0;31m---------------------------------------------------------------------------\u001b[0m",
      "\u001b[0;31mNameError\u001b[0m                                 Traceback (most recent call last)",
      "\u001b[0;32m<ipython-input-2-e818cf1ef4f7>\u001b[0m in \u001b[0;36m<module>\u001b[0;34m\u001b[0m\n\u001b[0;32m----> 1\u001b[0;31m \u001b[0mnvals_anti\u001b[0m\u001b[0;34m\u001b[0m\u001b[0;34m\u001b[0m\u001b[0m\n\u001b[0m",
      "\u001b[0;31mNameError\u001b[0m: name 'nvals_anti' is not defined"
     ]
    }
   ],
   "source": [
    "nvals_anti"
   ]
  },
  {
   "cell_type": "code",
   "execution_count": 4,
   "metadata": {},
   "outputs": [],
   "source": [
    "# kbt =.01\n",
    "# # U = 1/.2\n",
    "# ne = 1.6\n",
    "# delta=0.1\n",
    "# n1_up = (ne/4) + delta #occupation on site 1\n",
    "# n1_do = (ne/4) - delta\n",
    "# n2_up = (ne/4) + delta\n",
    "# n2_do = (ne/4) - delta\n",
    "# nvals_fero = []\n",
    "# for U in (1/arange(.1,.24,.01)):\n",
    "#     nvals_fero.append(optimize.root(self_consistency2,[n1_do,n2_do, n1_up,n2_up ], args=(U,ne,kbt),method='broyden2',options={'disp':True}))"
   ]
  },
  {
   "cell_type": "code",
   "execution_count": 34,
   "metadata": {},
   "outputs": [],
   "source": [
    "U = 1/.13\n",
    "n1_do,n2_do, n1_up,n2_up = 0.09010787, 0.70989213, 0.70989213, 0.09010787\n",
    "E_up = U * ((n1_up+n2_up)/2) - U * ((n1_up*n1_do)+(n2_up*n2_do)) + 0.5 * sqrt(U**2 * (n1_up - n2_up)**2 + 4**3)\n",
    "E_do = U * ((n1_do+n2_do)/2) - U * ((n1_up*n1_do)+(n2_up*n2_do)) + 0.5 * sqrt(U**2 * (n1_do - n2_do)**2 + 4**3)"
   ]
  },
  {
   "cell_type": "code",
   "execution_count": 35,
   "metadata": {},
   "outputs": [
    {
     "data": {
      "text/plain": [
       "4.035571479228923"
      ]
     },
     "execution_count": 35,
     "metadata": {},
     "output_type": "execute_result"
    }
   ],
   "source": [
    "E_up"
   ]
  },
  {
   "cell_type": "code",
   "execution_count": null,
   "metadata": {},
   "outputs": [],
   "source": []
  }
 ],
 "metadata": {
  "kernelspec": {
   "display_name": "Python 3",
   "language": "python",
   "name": "python3"
  },
  "language_info": {
   "codemirror_mode": {
    "name": "ipython",
    "version": 3
   },
   "file_extension": ".py",
   "mimetype": "text/x-python",
   "name": "python",
   "nbconvert_exporter": "python",
   "pygments_lexer": "ipython3",
   "version": "3.7.6"
  }
 },
 "nbformat": 4,
 "nbformat_minor": 4
}
